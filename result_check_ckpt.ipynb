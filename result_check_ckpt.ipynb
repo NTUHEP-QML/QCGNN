{
 "cells": [
  {
   "cell_type": "code",
   "execution_count": 2,
   "metadata": {},
   "outputs": [],
   "source": [
    "import os\n",
    "import shutil\n",
    "from collections import defaultdict"
   ]
  },
  {
   "cell_type": "code",
   "execution_count": 12,
   "metadata": {},
   "outputs": [
    {
     "name": "stdout",
     "output_type": "stream",
     "text": [
      "ClassicalMPGNN_go1024_gh1024_gl4_mh0_ml0 20\n",
      "ClassicalMPGNN_go3_gh3_gl2_mh0_ml0 20\n",
      "ClassicalMPGNN_go6_gh6_gl2_mh0_ml0 20\n",
      "ClassicalMPGNN_go9_gh9_gl2_mh0_ml0 20\n",
      "QuantumRotQCGNN_qidx3_qnn3_gl1_gr3 20\n",
      "QuantumRotQCGNN_qidx3_qnn3_gl1_gr6 6\n",
      "QuantumRotQCGNN_qidx3_qnn3_gl1_gr9 6\n",
      "QuantumRotQCGNN_qidx3_qnn6_gl1_gr3 6\n",
      "QuantumRotQCGNN_qidx3_qnn6_gl1_gr6 6\n",
      "QuantumRotQCGNN_qidx3_qnn6_gl1_gr9 6\n",
      "QuantumRotQCGNN_qidx3_qnn9_gl1_gr3 6\n",
      "QuantumRotQCGNN_qidx3_qnn9_gl1_gr6 6\n",
      "QuantumRotQCGNN_qidx3_qnn9_gl1_gr9 6\n"
     ]
    }
   ],
   "source": [
    "ckpt_counter = defaultdict(int)\n",
    "dir_path = \"./ckpt\"\n",
    "\n",
    "for f in os.listdir(dir_path):\n",
    "    model = f.split()[0]\n",
    "    ckpt_counter[model] += 1\n",
    "\n",
    "keys = list(ckpt_counter.keys())\n",
    "keys.sort()\n",
    "for key in keys:\n",
    "    print(key, ckpt_counter[key])"
   ]
  },
  {
   "cell_type": "code",
   "execution_count": 3,
   "metadata": {},
   "outputs": [],
   "source": [
    "dir_path = \"./ckpt\"\n",
    "for f in os.listdir(dir_path):\n",
    "    src = os.path.join(dir_path, f)\n",
    "    \n",
    "    # remove last character like \" \" or \"_\"\n",
    "    if f[-1] not in [str(i) for i in range(10)]:\n",
    "        if f[-1] not in [\" \", \"_\"]:\n",
    "            print(f\"Delete {f}\")\n",
    "            shutil.rmtree(src)\n",
    "            continue\n",
    "        else:\n",
    "            print(f)\n",
    "            dst = src[:-1]\n",
    "            os.rename(src, dst)\n",
    "            src = dst\n",
    "\n",
    "    # remove test files\n",
    "    if \"test\" in f:\n",
    "        print(f)\n",
    "        shutil.rmtree(src)\n",
    "        continue\n",
    "    \n",
    "    # FCGNN -> QCGNN\n",
    "    if \"QuantumRotFCGNN\" in f:\n",
    "        print(src)\n",
    "        dst = src.replace(\"QuantumRotFCGNN\", \"QuantumRotQCGNN\")\n",
    "        os.rename(src, dst)\n",
    "        src = dst\n",
    "    \n",
    "    # 2PCNN -> MPGNN\n",
    "    if \"Classical2PCGNN\" in f:\n",
    "        print(src)\n",
    "        dst = src.replace(\"Classical2PCGNN\", \"ClassicalMPGNN\")\n",
    "        os.rename(src, dst)\n",
    "        src = dst\n",
    "\n",
    "    # check epoch 30\n",
    "    ckpt_path = os.path.join(src, \"checkpoints\")\n",
    "    ckpt_file = os.listdir(ckpt_path)[0]\n",
    "    if \"epoch=29\" not in ckpt_file:\n",
    "        print(f, ckpt_file)\n",
    "        shutil.rmtree(src)\n",
    "        continue"
   ]
  }
 ],
 "metadata": {
  "kernelspec": {
   "display_name": "Python 3",
   "language": "python",
   "name": "python3"
  },
  "language_info": {
   "codemirror_mode": {
    "name": "ipython",
    "version": 3
   },
   "file_extension": ".py",
   "mimetype": "text/x-python",
   "name": "python",
   "nbconvert_exporter": "python",
   "pygments_lexer": "ipython3",
   "version": "3.9.12"
  }
 },
 "nbformat": 4,
 "nbformat_minor": 2
}

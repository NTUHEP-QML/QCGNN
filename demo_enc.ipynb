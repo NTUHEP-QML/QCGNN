{
 "cells": [
  {
   "cell_type": "code",
   "execution_count": 4,
   "metadata": {},
   "outputs": [
    {
     "name": "stderr",
     "output_type": "stream",
     "text": [
      "Global seed set to 0\n"
     ]
    },
    {
     "data": {
      "text/plain": [
       "0"
      ]
     },
     "execution_count": 4,
     "metadata": {},
     "output_type": "execute_result"
    }
   ],
   "source": [
    "import torch\n",
    "import module_model\n",
    "import lightning as L\n",
    "import pennylane as qml\n",
    "from pennylane import numpy as np\n",
    "L.seed_everything(0)"
   ]
  },
  {
   "cell_type": "code",
   "execution_count": 5,
   "metadata": {},
   "outputs": [],
   "source": [
    "def encoding(num_ir_qubits, num_nr_qubits, mode):\n",
    "    # rotation encoding on pennylane simulator\n",
    "    def pennylane_encoding(_input, control_values):\n",
    "        for i in range(num_nr_qubits):\n",
    "            ctrl_H = qml.ctrl(qml.Hadamard, control=range(num_ir_qubits), control_values=control_values)\n",
    "            ctrl_H(wires=num_ir_qubits+i)\n",
    "            ctrl_R = qml.ctrl(qml.Rot, control=range(num_ir_qubits), control_values=control_values)\n",
    "            # batch data\n",
    "            if len(_input.shape) > 1:\n",
    "                ctrl_R(theta=_input[:,0], phi=_input[:,1], omega=_input[:,2], wires=num_ir_qubits+i)\n",
    "            # single data\n",
    "            else:\n",
    "                ctrl_R(theta=_input[0], phi=_input[1], omega=_input[2], wires=num_ir_qubits+i)\n",
    "\n",
    "    # rotation encoding on qiskit\n",
    "    num_wk_qubits = num_ir_qubits - 1\n",
    "    def qiskit_encoding(_input, control_values):\n",
    "        if len(_input.shape) > 1:\n",
    "            theta, phi, omega = _input[:,0], _input[:,1], _input[:,2]\n",
    "        # single data\n",
    "        else:\n",
    "            theta, phi, omega = _input[0], _input[1], _input[2]\n",
    "        # see N.C. page.184\n",
    "        for i in range(num_nr_qubits):\n",
    "            # control values\n",
    "            for q in range(num_ir_qubits):\n",
    "                if control_values[q] == 0:\n",
    "                    qml.PauliX(wires=q)\n",
    "            # toffoli transformation\n",
    "            if num_ir_qubits >= 2:\n",
    "                qml.Toffoli(wires=(0, 1, num_ir_qubits))\n",
    "            for q in range(num_wk_qubits-1):\n",
    "                qml.Toffoli(wires=(2+q, num_ir_qubits+q, num_ir_qubits+1+q))\n",
    "            # ctrl_H: decomposed by H = i Rx(pi) Ry(pi/2) (if complete graph with power of 2 nodes -> relative phase i becomes global)\n",
    "            target_qubit = num_ir_qubits + num_wk_qubits + i\n",
    "            qml.CRY(np.pi/2, wires=(num_ir_qubits + num_wk_qubits - 1, target_qubit))\n",
    "            qml.CRX(np.pi, wires=(num_ir_qubits + num_wk_qubits - 1, target_qubit))\n",
    "            # ctrl_R: Rot(phi, theta, omega) = Rz(omega) Ry(theta) Rz(phi)\n",
    "            qml.CRZ(phi, wires=(num_ir_qubits + num_wk_qubits - 1, target_qubit))\n",
    "            qml.CRY(theta, wires=(num_ir_qubits + num_wk_qubits - 1, target_qubit))\n",
    "            qml.CRZ(omega, wires=(num_ir_qubits + num_wk_qubits - 1, target_qubit))\n",
    "            # toffoli inverse transformation\n",
    "            for q in reversed(range(num_wk_qubits-1)):\n",
    "                qml.Toffoli(wires=(2+q, num_ir_qubits+q, num_ir_qubits+1+q))\n",
    "            if num_ir_qubits >= 2:\n",
    "                qml.Toffoli(wires=(0, 1, num_ir_qubits))\n",
    "            # control values\n",
    "            for q in range(num_ir_qubits):\n",
    "                if control_values[q] == 0:\n",
    "                    qml.PauliX(wires=q)\n",
    "\n",
    "    if mode == \"pennylane\":\n",
    "        return pennylane_encoding\n",
    "    elif mode == \"qiskit\":\n",
    "        return qiskit_encoding"
   ]
  },
  {
   "cell_type": "code",
   "execution_count": 6,
   "metadata": {},
   "outputs": [
    {
     "name": "stderr",
     "output_type": "stream",
     "text": [
      "Global seed set to 0\n",
      "Global seed set to 0\n",
      "/home/yianchen/.pyenv/versions/3.9.12/lib/python3.9/site-packages/pennylane/math/utils.py:227: UserWarning: Contains tensors of types {'autograd', 'torch'}; dispatch will prioritize TensorFlow, PyTorch, and  Jax over Autograd. Consider replacing Autograd with vanilla NumPy.\n",
      "  warnings.warn(\n",
      "Global seed set to 1\n",
      "Global seed set to 1\n",
      "Global seed set to 2\n",
      "Global seed set to 2\n"
     ]
    },
    {
     "name": "stdout",
     "output_type": "stream",
     "text": [
      "# ModelLog: Quantum device  = default.qubit | Qubits (IR, WK, NR) = (3, 0, 2)\n",
      "# ModelLog: Quantum device  = default.qubit | Qubits (IR, WK, NR) = (3, 2, 2)\n",
      "Pennylane:\n",
      " - tensor([ 3.1391, -4.1633,  5.3773, -5.8651,  3.5260, -1.9418,  2.9362,  3.2477,\n",
      "         4.6836, -1.9314,  4.1385, -4.1309,  3.5726, -5.6751,  1.4566, -0.3557],\n",
      "       grad_fn=<ReshapeAliasBackward0>)\n",
      "Qiskit:\n",
      " - tensor([ 3.1391, -4.1633,  5.3773, -5.8651,  3.5260, -1.9418,  2.9362,  3.2477,\n",
      "         4.6836, -1.9314,  4.1385, -4.1309,  3.5726, -5.6751,  1.4566, -0.3557],\n",
      "       grad_fn=<ReshapeAliasBackward0>)\n",
      "Difference norm = 0.0000037570\n",
      "\n",
      "----------------------------------------------------------------------------------------------------\n",
      "\n",
      "# ModelLog: Quantum device  = default.qubit | Qubits (IR, WK, NR) = (3, 0, 2)\n",
      "# ModelLog: Quantum device  = default.qubit | Qubits (IR, WK, NR) = (3, 2, 2)\n",
      "Pennylane:\n",
      " - tensor([-2.3010,  4.5080, -0.7773,  3.8009, -1.6603,  2.2806, -0.2871,  1.9528,\n",
      "        -0.3428,  0.9435], grad_fn=<ReshapeAliasBackward0>)\n",
      "Qiskit:\n",
      " - tensor([-2.3010,  4.5080, -0.7773,  3.8009, -1.6603,  2.2806, -0.2871,  1.9528,\n",
      "        -0.3428,  0.9435], grad_fn=<ReshapeAliasBackward0>)\n",
      "Difference norm = 0.0000029690\n",
      "\n",
      "----------------------------------------------------------------------------------------------------\n",
      "\n",
      "# ModelLog: Quantum device  = default.qubit | Qubits (IR, WK, NR) = (3, 0, 2)\n",
      "# ModelLog: Quantum device  = default.qubit | Qubits (IR, WK, NR) = (3, 2, 2)\n"
     ]
    },
    {
     "name": "stderr",
     "output_type": "stream",
     "text": [
      "Global seed set to 3\n",
      "Global seed set to 3\n",
      "Global seed set to 4\n",
      "Global seed set to 4\n",
      "Global seed set to 5\n",
      "Global seed set to 5\n"
     ]
    },
    {
     "name": "stdout",
     "output_type": "stream",
     "text": [
      "Pennylane:\n",
      " - tensor([-3.1551, -3.2923, -3.3829, -3.3523, -3.4551, -2.8127, -1.2576, -1.3178,\n",
      "         1.3526, -0.5999, -3.2019, -3.1243], grad_fn=<ReshapeAliasBackward0>)\n",
      "Qiskit:\n",
      " - tensor([-3.1551, -3.2923, -3.3829, -3.3523, -3.4551, -2.8127, -1.2576, -1.3178,\n",
      "         1.3526, -0.5999, -3.2019, -3.1243], grad_fn=<ReshapeAliasBackward0>)\n",
      "Difference norm = 0.0000017357\n",
      "\n",
      "----------------------------------------------------------------------------------------------------\n",
      "\n",
      "# ModelLog: Quantum device  = default.qubit | Qubits (IR, WK, NR) = (3, 0, 2)\n",
      "# ModelLog: Quantum device  = default.qubit | Qubits (IR, WK, NR) = (3, 2, 2)\n",
      "Pennylane:\n",
      " - tensor([4.9203, 6.1964], grad_fn=<ReshapeAliasBackward0>)\n",
      "Qiskit:\n",
      " - tensor([4.9203, 6.1964], grad_fn=<ReshapeAliasBackward0>)\n",
      "Difference norm = 0.0000021325\n",
      "\n",
      "----------------------------------------------------------------------------------------------------\n",
      "\n",
      "# ModelLog: Quantum device  = default.qubit | Qubits (IR, WK, NR) = (3, 0, 2)\n",
      "# ModelLog: Quantum device  = default.qubit | Qubits (IR, WK, NR) = (3, 2, 2)\n",
      "Pennylane:\n",
      " - tensor([-2.9831,  7.3845, -1.9658,  6.7513, -2.0885,  5.8952, -2.6368,  4.0677,\n",
      "        -0.8205,  7.2788, -3.1736,  5.1305,  0.5032,  4.9465],\n",
      "       grad_fn=<ReshapeAliasBackward0>)\n",
      "Qiskit:\n",
      " - tensor([-2.9831,  7.3845, -1.9658,  6.7513, -2.0885,  5.8952, -2.6368,  4.0677,\n",
      "        -0.8205,  7.2787, -3.1736,  5.1305,  0.5032,  4.9465],\n",
      "       grad_fn=<ReshapeAliasBackward0>)\n",
      "Difference norm = 0.0000047400\n",
      "\n",
      "----------------------------------------------------------------------------------------------------\n",
      "\n",
      "# ModelLog: Quantum device  = default.qubit | Qubits (IR, WK, NR) = (3, 0, 2)\n",
      "# ModelLog: Quantum device  = default.qubit | Qubits (IR, WK, NR) = (3, 2, 2)\n"
     ]
    },
    {
     "name": "stderr",
     "output_type": "stream",
     "text": [
      "Global seed set to 6\n",
      "Global seed set to 6\n",
      "Global seed set to 7\n",
      "Global seed set to 7\n",
      "Global seed set to 8\n",
      "Global seed set to 8\n",
      "Global seed set to 9\n"
     ]
    },
    {
     "name": "stdout",
     "output_type": "stream",
     "text": [
      "Pennylane:\n",
      " - tensor([ 0.0265, -4.1727, -5.8096, -6.9368, -0.7185, -4.9153, -5.9226, -5.5573,\n",
      "        -7.1664, -7.9282, -5.9516, -6.4883, -2.1585, -4.3335, -6.1888, -6.3018],\n",
      "       grad_fn=<ReshapeAliasBackward0>)\n",
      "Qiskit:\n",
      " - tensor([ 0.0265, -4.1727, -5.8096, -6.9368, -0.7185, -4.9153, -5.9225, -5.5573,\n",
      "        -7.1664, -7.9282, -5.9516, -6.4883, -2.1585, -4.3335, -6.1888, -6.3018],\n",
      "       grad_fn=<ReshapeAliasBackward0>)\n",
      "Difference norm = 0.0000051210\n",
      "\n",
      "----------------------------------------------------------------------------------------------------\n",
      "\n",
      "# ModelLog: Quantum device  = default.qubit | Qubits (IR, WK, NR) = (3, 0, 2)\n",
      "# ModelLog: Quantum device  = default.qubit | Qubits (IR, WK, NR) = (3, 2, 2)\n",
      "Pennylane:\n",
      " - tensor([-0.4749, -1.7244,  4.0903, -6.3153], grad_fn=<ReshapeAliasBackward0>)\n",
      "Qiskit:\n",
      " - tensor([-0.4749, -1.7244,  4.0903, -6.3153], grad_fn=<ReshapeAliasBackward0>)\n",
      "Difference norm = 0.0000007913\n",
      "\n",
      "----------------------------------------------------------------------------------------------------\n",
      "\n",
      "# ModelLog: Quantum device  = default.qubit | Qubits (IR, WK, NR) = (3, 0, 2)\n",
      "# ModelLog: Quantum device  = default.qubit | Qubits (IR, WK, NR) = (3, 2, 2)\n",
      "Pennylane:\n",
      " - tensor([-0.3037,  4.6679, -3.3233, -1.5396, -2.3064,  5.6884, -5.5212, -1.3611,\n",
      "        -4.7468,  0.6050], grad_fn=<ReshapeAliasBackward0>)\n",
      "Qiskit:\n",
      " - tensor([-0.3037,  4.6679, -3.3233, -1.5396, -2.3064,  5.6884, -5.5212, -1.3611,\n",
      "        -4.7468,  0.6050], grad_fn=<ReshapeAliasBackward0>)\n",
      "Difference norm = 0.0000022940\n",
      "\n",
      "----------------------------------------------------------------------------------------------------\n",
      "\n",
      "# ModelLog: Quantum device  = default.qubit | Qubits (IR, WK, NR) = (3, 0, 2)\n",
      "# ModelLog: Quantum device  = default.qubit | Qubits (IR, WK, NR) = (3, 2, 2)\n",
      "Pennylane:\n",
      " - tensor([-1.0253,  0.9576, -2.6437,  3.3654, -0.7822,  0.8869, -0.5151, -2.1516,\n",
      "        -0.5383, -2.7612, -0.4459, -2.1606], grad_fn=<ReshapeAliasBackward0>)\n",
      "Qiskit:\n",
      " - tensor([-1.0253,  0.9576, -2.6437,  3.3654, -0.7822,  0.8869, -0.5151, -2.1516,\n",
      "        -0.5383, -2.7612, -0.4459, -2.1606], grad_fn=<ReshapeAliasBackward0>)\n",
      "Difference norm = 0.0000011531\n",
      "\n",
      "----------------------------------------------------------------------------------------------------\n",
      "\n"
     ]
    },
    {
     "name": "stderr",
     "output_type": "stream",
     "text": [
      "Global seed set to 9\n"
     ]
    },
    {
     "name": "stdout",
     "output_type": "stream",
     "text": [
      "# ModelLog: Quantum device  = default.qubit | Qubits (IR, WK, NR) = (3, 0, 2)\n",
      "# ModelLog: Quantum device  = default.qubit | Qubits (IR, WK, NR) = (3, 2, 2)\n",
      "Pennylane:\n",
      " - tensor([ 2.5975, -3.4874, -0.1645,  0.6105,  2.3918, -2.7727,  1.5809, -2.4491,\n",
      "         1.5957, -3.8615,  5.0309, -5.0276,  2.9914, -3.0150],\n",
      "       grad_fn=<ReshapeAliasBackward0>)\n",
      "Qiskit:\n",
      " - tensor([ 2.5975, -3.4874, -0.1645,  0.6105,  2.3918, -2.7727,  1.5809, -2.4491,\n",
      "         1.5957, -3.8615,  5.0309, -5.0276,  2.9914, -3.0150],\n",
      "       grad_fn=<ReshapeAliasBackward0>)\n",
      "Difference norm = 0.0000022650\n",
      "\n",
      "----------------------------------------------------------------------------------------------------\n",
      "\n"
     ]
    }
   ],
   "source": [
    "IR = 3 # number of qubits in IR\n",
    "NR = 2 # number of qubits in NR\n",
    "\n",
    "for i in range(10):\n",
    "    L.seed_everything(i) # to make the random initialized weights reproducible\n",
    "    pennylane_circuit = module_model.QCGNN(IR, NR, 1, 1, ctrl_enc=encoding(IR, NR, \"pennylane\"))\n",
    "\n",
    "    L.seed_everything(i) # to make the random initialized weights reproducible\n",
    "    qiskit_circuit    = module_model.QCGNN(IR, NR, 1, 1, ctrl_enc=encoding(IR, NR, \"qiskit\"))\n",
    "\n",
    "    batch_size = 1\n",
    "    num_ptcs = np.random.randint(2**IR) + 1\n",
    "    x = torch.rand(batch_size, num_ptcs, 3)\n",
    "\n",
    "    y_pennylane = pennylane_circuit(x).reshape(-1)\n",
    "    y_qiskit    = qiskit_circuit(x).reshape(-1)\n",
    "    print(f\"Pennylane:\\n - {y_pennylane}\")\n",
    "    print(f\"Qiskit:\\n - {y_qiskit}\")\n",
    "    print(f\"Difference norm = {torch.norm(y_pennylane-y_qiskit, p=2):.10f}\")\n",
    "    print(f\"\\n{'-'*100}\\n\")"
   ]
  }
 ],
 "metadata": {
  "kernelspec": {
   "display_name": "Python 3",
   "language": "python",
   "name": "python3"
  },
  "language_info": {
   "codemirror_mode": {
    "name": "ipython",
    "version": 3
   },
   "file_extension": ".py",
   "mimetype": "text/x-python",
   "name": "python",
   "nbconvert_exporter": "python",
   "pygments_lexer": "ipython3",
   "version": "3.9.12"
  }
 },
 "nbformat": 4,
 "nbformat_minor": 2
}

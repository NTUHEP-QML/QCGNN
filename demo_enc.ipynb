{
 "cells": [
  {
   "cell_type": "code",
   "execution_count": 15,
   "metadata": {},
   "outputs": [
    {
     "name": "stderr",
     "output_type": "stream",
     "text": [
      "Global seed set to 0\n"
     ]
    },
    {
     "data": {
      "text/plain": [
       "0"
      ]
     },
     "execution_count": 15,
     "metadata": {},
     "output_type": "execute_result"
    }
   ],
   "source": [
    "import torch\n",
    "import module_model\n",
    "import lightning as L\n",
    "import pennylane as qml\n",
    "from pennylane import numpy as np\n",
    "L.seed_everything(0)"
   ]
  },
  {
   "cell_type": "code",
   "execution_count": 16,
   "metadata": {},
   "outputs": [],
   "source": [
    "def encoding(num_ir_qubits, num_nr_qubits, mode):\n",
    "    # rotation encoding on pennylane simulator\n",
    "    def pennylane_encoding(_input, control_values):\n",
    "        for i in range(num_nr_qubits):\n",
    "            ctrl_H = qml.ctrl(qml.Hadamard, control=range(num_ir_qubits), control_values=control_values)\n",
    "            ctrl_H(wires=num_ir_qubits+i)\n",
    "            ctrl_R = qml.ctrl(qml.Rot, control=range(num_ir_qubits), control_values=control_values)\n",
    "            ctrl_R(theta=_input[0], phi=_input[1], omega=_input[2], wires=num_ir_qubits+i)\n",
    "\n",
    "    # rotation encoding on qiskit\n",
    "    num_wk_qubits = num_ir_qubits - 1\n",
    "    def qiskit_encoding(_input, control_values):\n",
    "        theta, phi, omega = _input[0], _input[1], _input[2]\n",
    "        # see N.C. page.184\n",
    "        for i in range(num_nr_qubits):\n",
    "            # control values\n",
    "            for q in range(num_ir_qubits):\n",
    "                if control_values[q] == 0:\n",
    "                    qml.PauliX(wires=q)\n",
    "            # toffoli transformation\n",
    "            if num_ir_qubits >= 2:\n",
    "                qml.Toffoli(wires=(0, 1, num_ir_qubits))\n",
    "            for q in range(num_wk_qubits-1):\n",
    "                qml.Toffoli(wires=(2+q, num_ir_qubits+q, num_ir_qubits+1+q))\n",
    "            # ctrl_H: decomposed by H = i Rx(pi) Ry(pi/2) (if complete graph with power of 2 nodes -> relative phase i becomes global)\n",
    "            target_qubit = num_ir_qubits + num_wk_qubits + i\n",
    "            qml.CRY(np.pi/2, wires=(num_ir_qubits + num_wk_qubits - 1, target_qubit))\n",
    "            qml.CRX(np.pi, wires=(num_ir_qubits + num_wk_qubits - 1, target_qubit))\n",
    "            # ctrl_R: Rot(phi, theta, omega) = Rz(omega) Ry(theta) Rz(phi)\n",
    "            qml.CRZ(phi, wires=(num_ir_qubits + num_wk_qubits - 1, target_qubit))\n",
    "            qml.CRY(theta, wires=(num_ir_qubits + num_wk_qubits - 1, target_qubit))\n",
    "            qml.CRZ(omega, wires=(num_ir_qubits + num_wk_qubits - 1, target_qubit))\n",
    "            # toffoli inverse transformation\n",
    "            for q in reversed(range(num_wk_qubits-1)):\n",
    "                qml.Toffoli(wires=(2+q, num_ir_qubits+q, num_ir_qubits+1+q))\n",
    "            if num_ir_qubits >= 2:\n",
    "                qml.Toffoli(wires=(0, 1, num_ir_qubits))\n",
    "            # control values\n",
    "            for q in range(num_ir_qubits):\n",
    "                if control_values[q] == 0:\n",
    "                    qml.PauliX(wires=q)\n",
    "\n",
    "    if mode == \"pennylane\":\n",
    "        return pennylane_encoding\n",
    "    elif mode == \"qiskit\":\n",
    "        return qiskit_encoding"
   ]
  },
  {
   "cell_type": "code",
   "execution_count": 18,
   "metadata": {},
   "outputs": [
    {
     "name": "stderr",
     "output_type": "stream",
     "text": [
      "Global seed set to 0\n",
      "Global seed set to 0\n",
      "Global seed set to 1\n",
      "Global seed set to 1\n"
     ]
    },
    {
     "name": "stdout",
     "output_type": "stream",
     "text": [
      "# ModelLog: Quantum device  = default.qubit | Qubits (IR, WK, NR) = (3, 0, 2)\n",
      "# ModelLog: Quantum device  = default.qubit | Qubits (IR, WK, NR) = (3, 2, 2)\n",
      "Pennylane:\n",
      " - tensor([ 8.6146, -8.7186,  5.7605, -5.1836,  6.5973, -5.9904,  4.3638, -4.1662,\n",
      "         4.3642, -4.3749], grad_fn=<ReshapeAliasBackward0>)\n",
      "Qiskit:\n",
      " - tensor([ 8.6146, -8.7186,  5.7605, -5.1836,  6.5973, -5.9904,  4.3638, -4.1662,\n",
      "         4.3642, -4.3749], grad_fn=<ReshapeAliasBackward0>)\n",
      "Difference norm = 0.0000011680\n",
      "\n",
      "----------------------------------------------------------------------------------------------------\n",
      "\n",
      "# ModelLog: Quantum device  = default.qubit | Qubits (IR, WK, NR) = (3, 0, 2)\n",
      "# ModelLog: Quantum device  = default.qubit | Qubits (IR, WK, NR) = (3, 2, 2)\n"
     ]
    },
    {
     "name": "stderr",
     "output_type": "stream",
     "text": [
      "Global seed set to 2\n",
      "Global seed set to 2\n",
      "Global seed set to 3\n",
      "Global seed set to 3\n",
      "Global seed set to 4\n",
      "Global seed set to 4\n"
     ]
    },
    {
     "name": "stdout",
     "output_type": "stream",
     "text": [
      "Pennylane:\n",
      " - tensor([ 20.5682, -20.7537,  23.8379, -23.8621,  31.6828, -31.7217,  25.8966,\n",
      "        -26.0866,  27.8525, -28.1735,  28.6361, -28.8018],\n",
      "       grad_fn=<ReshapeAliasBackward0>)\n",
      "Qiskit:\n",
      " - tensor([ 20.5682, -20.7537,  23.8379, -23.8621,  31.6828, -31.7217,  25.8966,\n",
      "        -26.0866,  27.8525, -28.1735,  28.6361, -28.8018],\n",
      "       grad_fn=<ReshapeAliasBackward0>)\n",
      "Difference norm = 0.0000071366\n",
      "\n",
      "----------------------------------------------------------------------------------------------------\n",
      "\n",
      "# ModelLog: Quantum device  = default.qubit | Qubits (IR, WK, NR) = (3, 0, 2)\n",
      "# ModelLog: Quantum device  = default.qubit | Qubits (IR, WK, NR) = (3, 2, 2)\n",
      "Pennylane:\n",
      " - tensor([-15.7156,  -7.3684], grad_fn=<ReshapeAliasBackward0>)\n",
      "Qiskit:\n",
      " - tensor([-15.7156,  -7.3684], grad_fn=<ReshapeAliasBackward0>)\n",
      "Difference norm = 0.0000000000\n",
      "\n",
      "----------------------------------------------------------------------------------------------------\n",
      "\n",
      "# ModelLog: Quantum device  = default.qubit | Qubits (IR, WK, NR) = (3, 0, 2)\n",
      "# ModelLog: Quantum device  = default.qubit | Qubits (IR, WK, NR) = (3, 2, 2)\n",
      "Pennylane:\n",
      " - tensor([-30.9026,  11.5583, -33.7914,  12.5250, -34.0764,  17.6735],\n",
      "       grad_fn=<ReshapeAliasBackward0>)\n",
      "Qiskit:\n",
      " - tensor([-30.9026,  11.5583, -33.7914,  12.5250, -34.0764,  17.6735],\n",
      "       grad_fn=<ReshapeAliasBackward0>)\n",
      "Difference norm = 0.0000009537\n",
      "\n",
      "----------------------------------------------------------------------------------------------------\n",
      "\n",
      "# ModelLog: Quantum device  = default.qubit | Qubits (IR, WK, NR) = (3, 0, 2)\n",
      "# ModelLog: Quantum device  = default.qubit | Qubits (IR, WK, NR) = (3, 2, 2)\n"
     ]
    },
    {
     "name": "stderr",
     "output_type": "stream",
     "text": [
      "Global seed set to 5\n",
      "Global seed set to 5\n",
      "Global seed set to 6\n",
      "Global seed set to 6\n"
     ]
    },
    {
     "name": "stdout",
     "output_type": "stream",
     "text": [
      "Pennylane:\n",
      " - tensor([-41.5523,  18.4090, -45.9006,  23.4644, -39.4279,  13.9275],\n",
      "       grad_fn=<ReshapeAliasBackward0>)\n",
      "Qiskit:\n",
      " - tensor([-41.5523,  18.4090, -45.9006,  23.4644, -39.4279,  13.9275],\n",
      "       grad_fn=<ReshapeAliasBackward0>)\n",
      "Difference norm = 0.0000038147\n",
      "\n",
      "----------------------------------------------------------------------------------------------------\n",
      "\n",
      "# ModelLog: Quantum device  = default.qubit | Qubits (IR, WK, NR) = (3, 0, 2)\n",
      "# ModelLog: Quantum device  = default.qubit | Qubits (IR, WK, NR) = (3, 2, 2)\n",
      "Pennylane:\n",
      " - tensor([-41.5441,  -6.3623, -49.1275,  -6.6868, -41.9647,  -7.5990, -42.8934,\n",
      "         -6.0298], grad_fn=<ReshapeAliasBackward0>)\n",
      "Qiskit:\n",
      " - tensor([-41.5441,  -6.3623, -49.1275,  -6.6868, -41.9647,  -7.5990, -42.8934,\n",
      "         -6.0298], grad_fn=<ReshapeAliasBackward0>)\n",
      "Difference norm = 0.0000018468\n",
      "\n",
      "----------------------------------------------------------------------------------------------------\n",
      "\n",
      "# ModelLog: Quantum device  = default.qubit | Qubits (IR, WK, NR) = (3, 0, 2)\n",
      "# ModelLog: Quantum device  = default.qubit | Qubits (IR, WK, NR) = (3, 2, 2)\n"
     ]
    },
    {
     "name": "stderr",
     "output_type": "stream",
     "text": [
      "Global seed set to 7\n",
      "Global seed set to 7\n"
     ]
    },
    {
     "name": "stdout",
     "output_type": "stream",
     "text": [
      "Pennylane:\n",
      " - tensor([-2.7514,  1.0339, -3.1319,  0.5160, -6.0548, -2.8743],\n",
      "       grad_fn=<ReshapeAliasBackward0>)\n",
      "Qiskit:\n",
      " - tensor([-2.7514,  1.0339, -3.1319,  0.5160, -6.0548, -2.8743],\n",
      "       grad_fn=<ReshapeAliasBackward0>)\n",
      "Difference norm = 0.0000006848\n",
      "\n",
      "----------------------------------------------------------------------------------------------------\n",
      "\n",
      "# ModelLog: Quantum device  = default.qubit | Qubits (IR, WK, NR) = (3, 0, 2)\n",
      "# ModelLog: Quantum device  = default.qubit | Qubits (IR, WK, NR) = (3, 2, 2)\n"
     ]
    },
    {
     "name": "stderr",
     "output_type": "stream",
     "text": [
      "Global seed set to 8\n",
      "Global seed set to 8\n",
      "Global seed set to 9\n",
      "Global seed set to 9\n"
     ]
    },
    {
     "name": "stdout",
     "output_type": "stream",
     "text": [
      "Pennylane:\n",
      " - tensor([-12.8231,   0.9222, -17.1042,   1.0457, -16.3320,   4.0627, -17.8126,\n",
      "          2.9222, -16.4908,   3.7717, -16.4782,   4.3244, -16.4099,   4.5318,\n",
      "        -13.7260,   2.2017], grad_fn=<ReshapeAliasBackward0>)\n",
      "Qiskit:\n",
      " - tensor([-12.8231,   0.9222, -17.1042,   1.0457, -16.3320,   4.0627, -17.8126,\n",
      "          2.9222, -16.4908,   3.7717, -16.4782,   4.3244, -16.4099,   4.5318,\n",
      "        -13.7260,   2.2017], grad_fn=<ReshapeAliasBackward0>)\n",
      "Difference norm = 0.0000016082\n",
      "\n",
      "----------------------------------------------------------------------------------------------------\n",
      "\n",
      "# ModelLog: Quantum device  = default.qubit | Qubits (IR, WK, NR) = (3, 0, 2)\n",
      "# ModelLog: Quantum device  = default.qubit | Qubits (IR, WK, NR) = (3, 2, 2)\n",
      "Pennylane:\n",
      " - tensor([13.9520, 10.9789, 12.5315, 10.4392, 14.4646, 10.2833, 13.6068,  6.8219],\n",
      "       grad_fn=<ReshapeAliasBackward0>)\n",
      "Qiskit:\n",
      " - tensor([13.9520, 10.9789, 12.5315, 10.4392, 14.4646, 10.2833, 13.6068,  6.8219],\n",
      "       grad_fn=<ReshapeAliasBackward0>)\n",
      "Difference norm = 0.0000026974\n",
      "\n",
      "----------------------------------------------------------------------------------------------------\n",
      "\n",
      "# ModelLog: Quantum device  = default.qubit | Qubits (IR, WK, NR) = (3, 0, 2)\n",
      "# ModelLog: Quantum device  = default.qubit | Qubits (IR, WK, NR) = (3, 2, 2)\n",
      "Pennylane:\n",
      " - tensor([-33.1536,  26.4964, -25.3775,  22.8805, -33.8722,  25.2127, -34.8949,\n",
      "         25.3872, -31.9725,  24.0071, -30.3235,  25.7458, -33.1799,  25.1792],\n",
      "       grad_fn=<ReshapeAliasBackward0>)\n",
      "Qiskit:\n",
      " - tensor([-33.1536,  26.4964, -25.3775,  22.8805, -33.8722,  25.2127, -34.8949,\n",
      "         25.3872, -31.9725,  24.0071, -30.3235,  25.7458, -33.1799,  25.1792],\n",
      "       grad_fn=<ReshapeAliasBackward0>)\n",
      "Difference norm = 0.0000038147\n",
      "\n",
      "----------------------------------------------------------------------------------------------------\n",
      "\n"
     ]
    }
   ],
   "source": [
    "IR = 3 # number of qubits in IR\n",
    "NR = 2 # number of qubits in NR\n",
    "\n",
    "for i in range(10):\n",
    "    L.seed_everything(i) # to make the random initialized weights reproducible\n",
    "    pennylane_circuit = module_model.QCGNN(IR, NR, 1, 1, ctrl_enc=encoding(IR, NR, \"pennylane\"))\n",
    "\n",
    "    L.seed_everything(i) # to make the random initialized weights reproducible\n",
    "    qiskit_circuit    = module_model.QCGNN(IR, NR, 1, 1, ctrl_enc=encoding(IR, NR, \"qiskit\"))\n",
    "\n",
    "    N = np.random.randint(2**IR) + 1\n",
    "    x = torch.rand(N, 3)\n",
    "\n",
    "    y_pennylane = pennylane_circuit(x).reshape(-1)\n",
    "    y_qiskit    = qiskit_circuit(x).reshape(-1)\n",
    "    print(f\"Pennylane:\\n - {y_pennylane}\")\n",
    "    print(f\"Qiskit:\\n - {y_qiskit}\")\n",
    "    print(f\"Difference norm = {torch.norm(y_pennylane-y_qiskit, p=2):.10f}\")\n",
    "    print(f\"\\n{'-'*100}\\n\")"
   ]
  }
 ],
 "metadata": {
  "kernelspec": {
   "display_name": "Python 3",
   "language": "python",
   "name": "python3"
  },
  "language_info": {
   "codemirror_mode": {
    "name": "ipython",
    "version": 3
   },
   "file_extension": ".py",
   "mimetype": "text/x-python",
   "name": "python",
   "nbconvert_exporter": "python",
   "pygments_lexer": "ipython3",
   "version": "3.9.12"
  }
 },
 "nbformat": 4,
 "nbformat_minor": 2
}

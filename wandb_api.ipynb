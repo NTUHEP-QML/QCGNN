{
 "cells": [
  {
   "cell_type": "markdown",
   "metadata": {},
   "source": [
    "### This notebook use `wandb.Api()` to modify runs.\n",
    "\n",
    "Uncomment the cell for needed."
   ]
  },
  {
   "cell_type": "code",
   "execution_count": null,
   "metadata": {},
   "outputs": [],
   "source": [
    "import wandb\n",
    "api = wandb.Api()\n",
    "\n",
    "# `wandb` info.\n",
    "account = \"ntuyianchen\"\n",
    "project = \"g_main\"\n",
    "\n",
    "# Fetching `runs` on `wandb`.\n",
    "runs = api.runs(f\"{account}/{project}\")"
   ]
  },
  {
   "cell_type": "markdown",
   "metadata": {},
   "source": [
    "##### Delete `wandb` runs"
   ]
  },
  {
   "cell_type": "code",
   "execution_count": null,
   "metadata": {},
   "outputs": [],
   "source": [
    "# # `run` info.\n",
    "# date = \"20231234\"\n",
    "# suffix = \"rnd123\"\n",
    "# state = \"finished\"\n",
    "\n",
    "# for run in runs:\n",
    "#     is_state = (run.state == state)\n",
    "#     is_date = (date in run.id)\n",
    "#     is_suffix = (suffix in run.id)\n",
    "#     if is_state and is_date and is_suffix:\n",
    "#         print(run.name)\n",
    "#         # run.delete()"
   ]
  },
  {
   "cell_type": "markdown",
   "metadata": {},
   "source": [
    "### Modify name and values"
   ]
  },
  {
   "cell_type": "code",
   "execution_count": null,
   "metadata": {},
   "outputs": [],
   "source": [
    "# for run in runs:\n",
    "#     \"\"\"Change configuration of runs.\"\"\"\n",
    "#     if run.state == \"finished\":\n",
    "#         name_before, name_after = \"before\", \"after\"\n",
    "#         if name_before in run.name:\n",
    "#             run.id = run.id.replace(name_before, name_after)\n",
    "#             run.name = run.name.replace(name_before, name_after)\n",
    "#             run.config[\"id\"] = run.config[\"id\"].replace(name_before, name_after)\n",
    "#             run.config[\"name\"] = run.config[\"name\"].replace(name_before, name_after)\n",
    "#             run.config[\"group_rnd\"] = run.config[\"group_rnd\"].replace(name_before, name_after)\n",
    "#             run.config[\"model_name\"] = name_after\n",
    "#             run.update()\n",
    "#             print(run.id)\n",
    "#             print(100*\"-\")\n",
    "#     else:\n",
    "#         continue"
   ]
  }
 ],
 "metadata": {
  "kernelspec": {
   "display_name": "Python 3",
   "language": "python",
   "name": "python3"
  },
  "language_info": {
   "codemirror_mode": {
    "name": "ipython",
    "version": 3
   },
   "file_extension": ".py",
   "mimetype": "text/x-python",
   "name": "python",
   "nbconvert_exporter": "python",
   "pygments_lexer": "ipython3",
   "version": "3.9.12"
  },
  "orig_nbformat": 4
 },
 "nbformat": 4,
 "nbformat_minor": 2
}

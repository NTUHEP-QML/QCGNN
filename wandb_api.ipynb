{
 "cells": [
  {
   "cell_type": "markdown",
   "metadata": {},
   "source": [
    "### This notebook is used for connecting to `wandb` database with `wandb.Api()`"
   ]
  },
  {
   "cell_type": "markdown",
   "metadata": {},
   "source": [
    "##### Delete `wandb` runs"
   ]
  },
  {
   "cell_type": "code",
   "execution_count": 10,
   "metadata": {},
   "outputs": [],
   "source": [
    "import wandb\n",
    "\n",
    "api     = wandb.Api()\n",
    "date    = \"\"\n",
    "suffix  = \"\"\n",
    "project = \"g_var\"\n",
    "state   = \"\"\n",
    "\n",
    "for run in api.runs(f\"ntuyianchen/{project}\"):\n",
    "    # if date in run.id and suffix in run.id:\n",
    "    check_state = True if state == \"\" else (run.state == state)\n",
    "    if check_state and (date in run.id) and (suffix in run.id):\n",
    "        print(run.id)\n",
    "        # run.delete()\n",
    "    # elif run.id is None:\n",
    "    #     print(run.id)"
   ]
  },
  {
   "cell_type": "markdown",
   "metadata": {},
   "source": [
    "##### Modify None (null) values"
   ]
  },
  {
   "cell_type": "code",
   "execution_count": null,
   "metadata": {},
   "outputs": [],
   "source": [
    "# import wandb\n",
    "\n",
    "# api     = wandb.Api()\n",
    "# date    = \"\"\n",
    "# suffix  = \"\"\n",
    "# project = \"g_eflow_QFCGNN\"\n",
    "\n",
    "# for run in api.runs(f\"ntuyianchen/{project}\"):\n",
    "#     if run.state == \"finished\":\n",
    "#         if \"subjet_radius\" in run.config.keys() and run.config[\"subjet_radius\"] == None:\n",
    "#             print(run.id)\n",
    "#             run.config[\"subjet_radius\"] = 0\n",
    "#             run.update()\n",
    "#         if \"num_pt_ptcs\" in run.config.keys() and run.config[\"num_pt_ptcs\"] == None:\n",
    "#             print(run.id)\n",
    "#             run.config[\"num_pt_ptcs\"] = \"Full\"\n",
    "#             run.update()"
   ]
  },
  {
   "cell_type": "markdown",
   "metadata": {},
   "source": [
    "### Modify name and values"
   ]
  },
  {
   "cell_type": "code",
   "execution_count": null,
   "metadata": {},
   "outputs": [],
   "source": [
    "# import wandb\n",
    "\n",
    "# api     = wandb.Api()\n",
    "# date    = \"\"\n",
    "# suffix  = \"\"\n",
    "# project = \"g_main\"\n",
    "\n",
    "# for run in api.runs(f\"ntuyianchen/{project}\"):\n",
    "#     if run.state == \"finished\":\n",
    "#         # FCGNN -> QCGNN\n",
    "#         # name_before, name_after = \"QuantumRotFCGNN\", \"QuantumRotQCGNN\"\n",
    "#         name_before, name_after = \"Classical2PCGNN\", \"ClassicalMPGNN\"\n",
    "#         if name_before in run.name:\n",
    "#             run.id   = run.id.replace(name_before, name_after)\n",
    "#             run.name = run.name.replace(name_before, name_after)\n",
    "#             run.config[\"id\"]         = run.config[\"id\"].replace(name_before, name_after)\n",
    "#             run.config[\"name\"]       = run.config[\"name\"].replace(name_before, name_after)\n",
    "#             run.config[\"group_rnd\"]  = run.config[\"group_rnd\"].replace(name_before, name_after)\n",
    "#             run.config[\"model_name\"] = name_after\n",
    "#             run.update()\n",
    "#             print(run.id)\n",
    "#             print(100*\"-\")\n",
    "        \n",
    "        # # Update null values of sig and bkg\n",
    "        # if \"sig\" not in run.config.keys() or \"abbrev\" not in run.config.keys():\n",
    "        #     if \"BB-QCD\" in run.id:\n",
    "        #         run.config[\"sig\"]    = \"VzToZhToVevebb\"\n",
    "        #         run.config[\"abbrev\"] = \"BB-QCD\"\n",
    "        #     elif \"TT-QCD\" in run.id:\n",
    "        #         run.config[\"sig\"]    = \"VzToTt\"\n",
    "        #         run.config[\"abbrev\"] = \"TT-QCD\"\n",
    "        #     run.config[\"bkg\"] = \"VzToQCD\"\n",
    "        #     run.update()\n",
    "        #     print(run.name)\n",
    "        #     print(100*\"-\")\n",
    "        \n",
    "        # # remove \"_\" in last character if needed\n",
    "        # if run.name[-1] == \"_\" or run.name[-1] == \" \":\n",
    "        #     run.name = run.name[:-1]\n",
    "        #     run.config[\"name\"] = run.config[\"name\"][:-1]\n",
    "        #     run.update()\n",
    "        #     print(run.id)\n",
    "        #     print(100*\"-\")"
   ]
  }
 ],
 "metadata": {
  "kernelspec": {
   "display_name": "Python 3",
   "language": "python",
   "name": "python3"
  },
  "language_info": {
   "codemirror_mode": {
    "name": "ipython",
    "version": 3
   },
   "file_extension": ".py",
   "mimetype": "text/x-python",
   "name": "python",
   "nbconvert_exporter": "python",
   "pygments_lexer": "ipython3",
   "version": "3.9.12"
  },
  "orig_nbformat": 4
 },
 "nbformat": 4,
 "nbformat_minor": 2
}

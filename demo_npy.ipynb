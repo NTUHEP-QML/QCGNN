{
 "cells": [
  {
   "cell_type": "code",
   "execution_count": 21,
   "metadata": {},
   "outputs": [],
   "source": [
    "import module_data\n",
    "import numpy as np\n",
    "import awkward as ak\n",
    "import lightning as L\n",
    "\n",
    "rnd_seed = 0\n",
    "channels = [\"VzToQCD\", \"VzToZhToVevebb\", \"VzToTt\"]"
   ]
  },
  {
   "cell_type": "code",
   "execution_count": 22,
   "metadata": {},
   "outputs": [
    {
     "name": "stderr",
     "output_type": "stream",
     "text": [
      "Global seed set to 0\n"
     ]
    },
    {
     "name": "stdout",
     "output_type": "stream",
     "text": [
      "\n",
      " ---------------------------------------------------------------------------------------------------- \n",
      "\n",
      "DataLog: Now loading hdf5 file VzToQCD|c800_1000_r0.hdf5\n",
      "DataLog: Successfully loading hdf5 file VzToQCD|c800_1000_r0.hdf5\n"
     ]
    },
    {
     "name": "stderr",
     "output_type": "stream",
     "text": [
      "Global seed set to 0\n"
     ]
    },
    {
     "name": "stdout",
     "output_type": "stream",
     "text": [
      "Maximum number of particles = 8\n",
      "VzToQCD shape = (5000, 8, 3)\n",
      "\n",
      " ---------------------------------------------------------------------------------------------------- \n",
      "\n",
      "DataLog: Now loading hdf5 file VzToZhToVevebb|c800_1000_r0.hdf5\n",
      "DataLog: Successfully loading hdf5 file VzToZhToVevebb|c800_1000_r0.hdf5\n"
     ]
    },
    {
     "name": "stderr",
     "output_type": "stream",
     "text": [
      "Global seed set to 0\n"
     ]
    },
    {
     "name": "stdout",
     "output_type": "stream",
     "text": [
      "Maximum number of particles = 8\n",
      "VzToZhToVevebb shape = (5000, 8, 3)\n",
      "\n",
      " ---------------------------------------------------------------------------------------------------- \n",
      "\n",
      "DataLog: Now loading hdf5 file VzToTt|c800_1000_r0.hdf5\n",
      "DataLog: Successfully loading hdf5 file VzToTt|c800_1000_r0.hdf5\n",
      "Maximum number of particles = 8\n",
      "VzToTt shape = (5000, 8, 3)\n"
     ]
    }
   ],
   "source": [
    "def np_jet(channel, rnd_seed):\n",
    "    print(\"\\n\",\"-\"*100,\"\\n\")\n",
    "    L.seed_everything(rnd_seed)\n",
    "    events = module_data.FatJetEvents(channel, (800,1000), 0, 8)\n",
    "    events = events.generate_uniform_pt_events(10, 500)\n",
    "    \n",
    "    \n",
    "    # transformed energy flow features sorted with pt\n",
    "    max_arg = ak.argsort(events[\"fast_pt\"], ascending=False, axis=1)\n",
    "    fatjet_radius = 0.8\n",
    "    f1 = np.arctan(events[\"fast_pt\"] / events[\"fatjet_pt\"])\n",
    "    f2 = events[\"fast_delta_eta\"] / fatjet_radius * (np.pi/2)\n",
    "    f3 = events[\"fast_delta_phi\"] / fatjet_radius * (np.pi/2)\n",
    "    f1 = f1[max_arg]\n",
    "    f2 = f2[max_arg]\n",
    "    f3 = f3[max_arg]\n",
    "    arrays = ak.zip([f1, f2, f3])\n",
    "\n",
    "    \n",
    "    # to list\n",
    "    max_num_ptcs = ak.max(ak.num(arrays, axis=1))\n",
    "    print(f\"Maximum number of particles = {max_num_ptcs}\")\n",
    "    arrays = arrays.to_list()\n",
    "\n",
    "    # pad to numpy\n",
    "    for i in range(len(arrays)):\n",
    "        arrays[i] = arrays[i] + [(0., 0., 0.)] * (max_num_ptcs - len(arrays[i]))\n",
    "    arrays = np.array(arrays)\n",
    "    print(f\"{channel} shape = {arrays.shape}\")\n",
    "    return arrays\n",
    "\n",
    "np_dict = {}\n",
    "for channel in channels:\n",
    "    np_dict[channel] = np_jet(channel, rnd_seed=rnd_seed)\n",
    "np.savez(f\"./jet_dataset/padded_npz/fatjet_{rnd_seed}.npz\", **np_dict)"
   ]
  }
 ],
 "metadata": {
  "kernelspec": {
   "display_name": "Python 3",
   "language": "python",
   "name": "python3"
  },
  "language_info": {
   "codemirror_mode": {
    "name": "ipython",
    "version": 3
   },
   "file_extension": ".py",
   "mimetype": "text/x-python",
   "name": "python",
   "nbconvert_exporter": "python",
   "pygments_lexer": "ipython3",
   "version": "3.9.12"
  }
 },
 "nbformat": 4,
 "nbformat_minor": 2
}

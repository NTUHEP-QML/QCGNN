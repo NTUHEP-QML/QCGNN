{
 "cells": [
  {
   "cell_type": "code",
   "execution_count": 20,
   "metadata": {},
   "outputs": [
    {
     "name": "stdout",
     "output_type": "stream",
     "text": [
      "Classical2PCGNN_normalize_go6_gh6_gl1_mh0_ml0 | VzToZhToVevebb_VzToQCD_cut(800, 1000)_bin10-500_R0.2 | 20230915_160730_2\n",
      "Classical2PCGNN_normalize_go6_gh6_gl0_mh0_ml0 | VzToZhToVevebb_VzToQCD_cut(800, 1000)_bin10-500_R0.2 | 20230915_160730_2\n",
      "Classical2PCGNN__go6_gh6_gl2_mh0_ml0 | VzToZhToVevebb_VzToQCD_cut(800, 1000)_bin10-500_R0.2 | 20230915_160730_2\n",
      "Classical2PCGNN__go6_gh6_gl1_mh0_ml0 | VzToZhToVevebb_VzToQCD_cut(800, 1000)_bin10-500_R0.2 | 20230915_160730_2\n",
      "Classical2PCGNN__go6_gh6_gl0_mh0_ml0 | VzToZhToVevebb_VzToQCD_cut(800, 1000)_bin10-500_R0.2 | 20230915_160730_2\n",
      "Classical2PCGNN_tri_eflow_go6_gh6_gl2_mh0_ml0 | VzToZhToVevebb_VzToQCD_cut(800, 1000)_bin10-500_R0.2 | 20230915_160730_1\n",
      "Classical2PCGNN_tri_eflow_go6_gh6_gl1_mh0_ml0 | VzToZhToVevebb_VzToQCD_cut(800, 1000)_bin10-500_R0.2 | 20230915_160730_1\n"
     ]
    }
   ],
   "source": [
    "import wandb\n",
    "\n",
    "api     = wandb.Api()\n",
    "date    = \"20230915_16\"\n",
    "suffix  = \"\"\n",
    "project = \"g_eflow_QFCGNN\"\n",
    "\n",
    "for run in api.runs(f\"ntuyianchen/{project}\"):\n",
    "    if date in run.id and suffix in run.id:\n",
    "        print(run.id)\n",
    "        run.delete()\n",
    "    # elif run.id is None:\n",
    "    #     print(run.id)"
   ]
  }
 ],
 "metadata": {
  "kernelspec": {
   "display_name": "Python 3",
   "language": "python",
   "name": "python3"
  },
  "language_info": {
   "codemirror_mode": {
    "name": "ipython",
    "version": 3
   },
   "file_extension": ".py",
   "mimetype": "text/x-python",
   "name": "python",
   "nbconvert_exporter": "python",
   "pygments_lexer": "ipython3",
   "version": "3.9.12"
  },
  "orig_nbformat": 4
 },
 "nbformat": 4,
 "nbformat_minor": 2
}

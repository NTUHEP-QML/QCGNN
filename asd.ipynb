{
 "cells": [
  {
   "cell_type": "code",
   "execution_count": 1,
   "metadata": {},
   "outputs": [
    {
     "name": "stdout",
     "output_type": "stream",
     "text": [
      "#--------------------------------------------------------------------------\n",
      "#                         FastJet release 3.4.0\n",
      "#                 M. Cacciari, G.P. Salam and G. Soyez                  \n",
      "#     A software package for jet finding and analysis at colliders      \n",
      "#                           http://fastjet.fr                           \n",
      "#\t                                                                      \n",
      "# Please cite EPJC72(2012)1896 [arXiv:1111.6097] if you use this package\n",
      "# for scientific work and optionally PLB641(2006)57 [hep-ph/0512210].   \n",
      "#                                                                       \n",
      "# FastJet is provided without warranty under the GNU GPL v2 or higher.  \n",
      "# It uses T. Chan's closest pair algorithm, S. Fortune's Voronoi code,\n",
      "# CGAL and 3rd party plugin jet algorithms. See COPYING file for details.\n",
      "#--------------------------------------------------------------------------\n"
     ]
    }
   ],
   "source": [
    "import m_nn, d_mg5_data\n",
    "import torch\n",
    "import pennylane as qml\n",
    "from pennylane import numpy as np\n",
    "import awkward as ak"
   ]
  },
  {
   "cell_type": "code",
   "execution_count": 19,
   "metadata": {},
   "outputs": [
    {
     "name": "stdout",
     "output_type": "stream",
     "text": [
      "DataLog: Now loading hdf5 file VzToZhToVevebb|c800_1000_r0.1.hdf5\n",
      "DataLog: Successfully loading hdf5 file VzToZhToVevebb|c800_1000_r0.1.hdf5\n"
     ]
    }
   ],
   "source": [
    "dataset = d_mg5_data.FatJetEvents(channel=\"VzToZhToVevebb\", cut_pt=(800, 1000), subjet_radius=0.1)"
   ]
  },
  {
   "cell_type": "code",
   "execution_count": 25,
   "metadata": {},
   "outputs": [
    {
     "data": {
      "text/html": [
       "<pre>[[134, 101, 86.2, 63.4, 55.7, 47.3, ..., 1.7, 1.39, 1.39, 1.22, 0.738, 0.205],\n",
       " [290, 173, 173, 44.1, 44.1, 36.9, ..., 2.44, 1.96, 1.51, 1.51, 1.27, 0.518],\n",
       " [158, 132, 48.2, 34.1, 33.1, 24.2, ..., 1.18, 1.05, 0.853, 0.851, 0.85, 0.736],\n",
       " [68.5, 56.4, 47.4, 47.4, 44.2, 43.6, ..., 0.786, 0.698, 0.609, 0.39, 0.305],\n",
       " [59.3, 55.8, 55.7, 55.7, 55.5, 49.2, ..., 1.34, 1.3, 0.939, 0.772, 0.767],\n",
       " [112, 112, 94.3, 61.9, 56.8, 47.2, ..., 1.77, 1.42, 1.13, 1.1, 0.704, 0.687],\n",
       " [150, 97.3, 73.3, 73, 65.2, 65.2, ..., 0.881, 0.803, 0.648, 0.341, 0.293],\n",
       " [303, 87.4, 77.2, 73.2, 43.2, 38.9, ..., 2.26, 1.83, 1.62, 1.41, 1.32, 1.12],\n",
       " [137, 137, 97, 97, 77.2, 62.7, ..., 1.41, 1.23, 1.09, 0.999, 0.821, 0.375],\n",
       " [116, 102, 84.1, 82.9, 64, 50.6, ..., 2.07, 1.64, 1.15, 1.12, 0.918, 0.882],\n",
       " ...,\n",
       " [113, 74.5, 74.5, 66, 66, 59.1, ..., 1.09, 0.965, 0.834, 0.755, 0.648, 0.4],\n",
       " [241, 91.5, 86.4, 57.6, 57.6, 50.2, ..., 0.883, 0.845, 0.719, 0.657, 0.495],\n",
       " [152, 127, 78.9, 70.4, 53.1, 46, 46, ..., 2.43, 2.36, 2.36, 1.6, 0.427, 0.187],\n",
       " [109, 96, 82.8, 82.8, 79.5, 70, 57, ..., 1.34, 1.26, 1.06, 1.02, 0.762, 0.537],\n",
       " [197, 197, 113, 106, 79.7, 62.4, ..., 3.73, 3.47, 3.12, 2.01, 1.11, 0.989],\n",
       " [100, 82.1, 75.8, 57.7, 57.7, 55, ..., 1.58, 1.49, 1.24, 0.751, 0.746, 0.223],\n",
       " [86.7, 74.3, 69, 65, 65, 54, 54, ..., 1.17, 1.16, 0.908, 0.706, 0.452, 0.418],\n",
       " [205, 205, 180, 180, 53.1, 46.7, ..., 1.58, 1.22, 1.18, 0.519, 0.49, 0.106],\n",
       " [56.9, 50, 45.5, 36.5, 36.3, 35.9, ..., 0.864, 0.765, 0.745, 0.714, 0.694]]\n",
       "--------------------------------------------------------------------------------\n",
       "type: 107039 * option[var * float32]</pre>"
      ],
      "text/plain": [
       "<Array [[134, 101, ..., 0.738, 0.205], ...] type='107039 * option[var * flo...'>"
      ]
     },
     "execution_count": 25,
     "metadata": {},
     "output_type": "execute_result"
    }
   ],
   "source": [
    "ak.sort(dataset.events[\"fast_pt\"], axis=-1, ascending=False)\n",
    "ak.sort(dataset.events[\"fatjet_daughter_pt\"], axis=-1, ascending=False)"
   ]
  }
 ],
 "metadata": {
  "kernelspec": {
   "display_name": "Python 3",
   "language": "python",
   "name": "python3"
  },
  "language_info": {
   "codemirror_mode": {
    "name": "ipython",
    "version": 3
   },
   "file_extension": ".py",
   "mimetype": "text/x-python",
   "name": "python",
   "nbconvert_exporter": "python",
   "pygments_lexer": "ipython3",
   "version": "3.9.12"
  },
  "orig_nbformat": 4
 },
 "nbformat": 4,
 "nbformat_minor": 2
}

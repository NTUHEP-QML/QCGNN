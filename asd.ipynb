{
 "cells": [
  {
   "cell_type": "code",
   "execution_count": 1,
   "metadata": {},
   "outputs": [
    {
     "name": "stdout",
     "output_type": "stream",
     "text": [
      "#--------------------------------------------------------------------------\n",
      "#                         FastJet release 3.4.0\n",
      "#                 M. Cacciari, G.P. Salam and G. Soyez                  \n",
      "#     A software package for jet finding and analysis at colliders      \n",
      "#                           http://fastjet.fr                           \n",
      "#\t                                                                      \n",
      "# Please cite EPJC72(2012)1896 [arXiv:1111.6097] if you use this package\n",
      "# for scientific work and optionally PLB641(2006)57 [hep-ph/0512210].   \n",
      "#                                                                       \n",
      "# FastJet is provided without warranty under the GNU GPL v2 or higher.  \n",
      "# It uses T. Chan's closest pair algorithm, S. Fortune's Voronoi code,\n",
      "# CGAL and 3rd party plugin jet algorithms. See COPYING file for details.\n",
      "#--------------------------------------------------------------------------\n"
     ]
    }
   ],
   "source": [
    "import m_nn, d_mg5_data\n",
    "import torch\n",
    "import pennylane as qml\n",
    "from pennylane import numpy as np\n",
    "import awkward as ak"
   ]
  },
  {
   "cell_type": "code",
   "execution_count": 10,
   "metadata": {},
   "outputs": [
    {
     "data": {
      "text/plain": [
       "tensor([0.26726124+0.j, 0.        +0.j, 0.53452248+0.j, 0.        +0.j,\n",
       "        0.56694671+0.j, 0.56694671+0.j, 0.        +0.j, 0.        +0.j], requires_grad=True)"
      ]
     },
     "execution_count": 10,
     "metadata": {},
     "output_type": "execute_result"
    }
   ],
   "source": [
    "dev = qml.device(\"default.qubit\", wires=3)\n",
    "@qml.qnode(dev)\n",
    "def circuit():\n",
    "    qml.AmplitudeEmbedding([1,2,3], wires=range(2), pad_with=0, normalize=True)\n",
    "\n",
    "    control_values = np.binary_repr(0, width=2)\n",
    "    control_values = list(map(int, control_values))\n",
    "\n",
    "    control_values = np.binary_repr(1, width=2)\n",
    "    control_values = list(map(int, control_values))\n",
    "\n",
    "    control_values = np.binary_repr(2, width=2)\n",
    "    control_values = list(map(int, control_values))\n",
    "    qml.ctrl(qml.Hadamard, control=range(2), control_values=control_values)(wires=2)\n",
    "\n",
    "    return qml.state()\n",
    "\n",
    "circuit()"
   ]
  }
 ],
 "metadata": {
  "kernelspec": {
   "display_name": "Python 3",
   "language": "python",
   "name": "python3"
  },
  "language_info": {
   "codemirror_mode": {
    "name": "ipython",
    "version": 3
   },
   "file_extension": ".py",
   "mimetype": "text/x-python",
   "name": "python",
   "nbconvert_exporter": "python",
   "pygments_lexer": "ipython3",
   "version": "3.9.12"
  },
  "orig_nbformat": 4
 },
 "nbformat": 4,
 "nbformat_minor": 2
}

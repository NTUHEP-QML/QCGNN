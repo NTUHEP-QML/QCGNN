{
 "cells": [
  {
   "cell_type": "code",
   "execution_count": 2,
   "metadata": {},
   "outputs": [],
   "source": [
    "import os\n",
    "import shutil"
   ]
  },
  {
   "cell_type": "markdown",
   "metadata": {},
   "source": [
    "### Classical"
   ]
  },
  {
   "cell_type": "code",
   "execution_count": 16,
   "metadata": {},
   "outputs": [],
   "source": [
    "for directory in os.listdir(\"result/g_main\"):\n",
    "    if \"Classical\" in directory and \"20231110\" in directory:\n",
    "        # get rnd seed\n",
    "        dir_split = directory.split()\n",
    "        suffix    = dir_split[-1] if \"20231110\" in dir_split[-1] else dir_split[-2]\n",
    "        rnd_seed  = suffix[-1] if suffix[-1] != \"_\" else suffix[-2]\n",
    "        # get epoch 30 ckpt\n",
    "        ckpt_path = os.path.join(\"result/g_main\", directory, \"checkpoints\")\n",
    "        ckpt_file = os.listdir(ckpt_path)[0]\n",
    "        if \"29\" in ckpt_file:\n",
    "            dst_name = directory.split()\n",
    "            dst_name = dst_name[0] + \"_\" + dst_name[2] + dst_name[3]\n",
    "            src = os.path.join(ckpt_path, ckpt_file)\n",
    "            dst = os.path.join(\"QCGNN_ckpt\", dst_name + f\"_{rnd_seed}.ckpt\")\n",
    "            shutil.copyfile(src, dst)"
   ]
  },
  {
   "cell_type": "markdown",
   "metadata": {},
   "source": [
    "### QCGNN"
   ]
  },
  {
   "cell_type": "code",
   "execution_count": 29,
   "metadata": {},
   "outputs": [],
   "source": [
    "for directory in os.listdir(\"QCGNN_result\"):\n",
    "    # get rnd seed\n",
    "    dir_split = directory.split()\n",
    "    suffix    = dir_split[-1] if \"2023\" in dir_split[-1] else dir_split[-2]\n",
    "    rnd_seed  = suffix[-1] if suffix[-1] != \"_\" else suffix[-2]\n",
    "    # get epoch 30 ckpt\n",
    "    ckpt_path = os.path.join(\"QCGNN_result\", directory, \"checkpoints\")\n",
    "    ckpt_file = os.listdir(ckpt_path)[0]\n",
    "    if \"29\" in ckpt_file:\n",
    "        dst_name = directory.split()\n",
    "        dst_name = dst_name[0] + \"_\" + dst_name[2] + dst_name[3]\n",
    "        dst_name = dst_name.replace(\"QuantumRotFCGNN\", \"QuantumRotQCGNN\")\n",
    "        src = os.path.join(ckpt_path, ckpt_file)\n",
    "        dst = os.path.join(\"QCGNN_ckpt\", dst_name + f\"_{rnd_seed}.ckpt\")\n",
    "        shutil.copyfile(src, dst)"
   ]
  }
 ],
 "metadata": {
  "kernelspec": {
   "display_name": "Python 3",
   "language": "python",
   "name": "python3"
  },
  "language_info": {
   "codemirror_mode": {
    "name": "ipython",
    "version": 3
   },
   "file_extension": ".py",
   "mimetype": "text/x-python",
   "name": "python",
   "nbconvert_exporter": "python",
   "pygments_lexer": "ipython3",
   "version": "3.9.12"
  }
 },
 "nbformat": 4,
 "nbformat_minor": 2
}

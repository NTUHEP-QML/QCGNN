{
 "cells": [
  {
   "cell_type": "code",
   "execution_count": null,
   "metadata": {},
   "outputs": [],
   "source": [
    "import os\n",
    "import shutil"
   ]
  },
  {
   "cell_type": "code",
   "execution_count": null,
   "metadata": {},
   "outputs": [],
   "source": [
    "dir_path = \"./ckpt\"\n",
    "for f in os.listdir(dir_path):\n",
    "    src = os.path.join(dir_path, f)\n",
    "    \n",
    "    # remove last character like \" \" or \"_\"\n",
    "    if f[-1] not in [str(i) for i in range(10)]:\n",
    "        if f[-1] not in [\" \", \"_\"]:\n",
    "            print(f\"Delete {f}\")\n",
    "            shutil.rmtree(src)\n",
    "            continue\n",
    "        else:\n",
    "            print(f)\n",
    "            dst = src[:-1]\n",
    "            os.rename(src, dst)\n",
    "            src = dst\n",
    "\n",
    "    # remove test files\n",
    "    if \"test\" in f:\n",
    "        print(f)\n",
    "        shutil.rmtree(src)\n",
    "        continue\n",
    "    \n",
    "    # FCGNN -> QCGNN\n",
    "    if \"QuantumRotFCGNN\" in f:\n",
    "        print(src)\n",
    "        dst = src.replace(\"QuantumRotFCGNN\", \"QuantumRotQCGNN\")\n",
    "        os.rename(src, dst)\n",
    "        src = dst\n",
    "\n",
    "    # check epoch 30\n",
    "    ckpt_path = os.path.join(src, \"checkpoints\")\n",
    "    ckpt_file = os.listdir(ckpt_path)[0]\n",
    "    if \"epoch=29\" not in ckpt_file:\n",
    "        print(f, ckpt_file)\n",
    "        shutil.rmtree(src)\n",
    "        continue"
   ]
  }
 ],
 "metadata": {
  "kernelspec": {
   "display_name": "Python 3",
   "language": "python",
   "name": "python3"
  },
  "language_info": {
   "codemirror_mode": {
    "name": "ipython",
    "version": 3
   },
   "file_extension": ".py",
   "mimetype": "text/x-python",
   "name": "python",
   "nbconvert_exporter": "python",
   "pygments_lexer": "ipython3",
   "version": "3.9.12"
  }
 },
 "nbformat": 4,
 "nbformat_minor": 2
}

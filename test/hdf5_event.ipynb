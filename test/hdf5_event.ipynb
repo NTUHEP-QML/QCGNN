{
 "cells": [
  {
   "cell_type": "code",
   "execution_count": 1,
   "metadata": {},
   "outputs": [],
   "source": [
    "import os\n",
    "import sys\n",
    "\n",
    "sys.path.append(os.path.abspath('../'))\n",
    "\n",
    "from source.data import preprocessing"
   ]
  },
  {
   "cell_type": "code",
   "execution_count": 2,
   "metadata": {},
   "outputs": [
    {
     "name": "stdout",
     "output_type": "stream",
     "text": [
      "# DataLog: Load VzToQCD-pt_800_1000.hdf5 file with 80323 events.\n",
      "# DataLog: After preprocessing, remaining num_events = 80316\n",
      "# DataLog: Load VzToZH-pt_800_1000.hdf5 file with 107039 events.\n",
      "# DataLog: After preprocessing, remaining num_events = 107037\n",
      "# DataLog: Load VzToTT-pt_800_1000.hdf5 file with 81694 events.\n",
      "# DataLog: After preprocessing, remaining num_events = 81689\n"
     ]
    }
   ],
   "source": [
    "# Make sure raw root files exist.\n",
    "channel_list = ['VzToQCD', 'VzToZH', 'VzToTT']\n",
    "fatjet_list = [preprocessing.FatJetEvents(channel, num_bins=10, num_data_per_bin=500, pt_min=800, pt_max=1000) for channel in channel_list]"
   ]
  },
  {
   "cell_type": "code",
   "execution_count": 3,
   "metadata": {},
   "outputs": [
    {
     "name": "stdout",
     "output_type": "stream",
     "text": [
      "Channel: VzToQCD\n",
      "---------- VzToQCD ----------\n",
      " * Number of bins = 10\n",
      " * Number of data per bin = 500\n",
      " * Jet pt range in (800, 1000)\n",
      " * Number of events in pt (800, 820) = 7569\n",
      " * Number of events in pt (820, 840) = 7740\n",
      " * Number of events in pt (840, 860) = 7966\n",
      " * Number of events in pt (860, 880) = 8200\n",
      " * Number of events in pt (880, 900) = 8472\n",
      " * Number of events in pt (900, 920) = 8506\n",
      " * Number of events in pt (920, 940) = 8623\n",
      " * Number of events in pt (940, 960) = 8367\n",
      " * Number of events in pt (960, 980) = 7864\n",
      " * Number of events in pt (980, 1000) = 7009\n",
      "\n",
      "Channel: VzToZH\n",
      "---------- VzToZH ----------\n",
      " * Number of bins = 10\n",
      " * Number of data per bin = 500\n",
      " * Jet pt range in (800, 1000)\n",
      " * Number of events in pt (800, 820) = 11075\n",
      " * Number of events in pt (820, 840) = 11328\n",
      " * Number of events in pt (840, 860) = 11761\n",
      " * Number of events in pt (860, 880) = 11922\n",
      " * Number of events in pt (880, 900) = 11775\n",
      " * Number of events in pt (900, 920) = 11568\n",
      " * Number of events in pt (920, 940) = 11036\n",
      " * Number of events in pt (940, 960) = 10258\n",
      " * Number of events in pt (960, 980) = 8915\n",
      " * Number of events in pt (980, 1000) = 7399\n",
      "\n",
      "Channel: VzToTT\n",
      "---------- VzToTT ----------\n",
      " * Number of bins = 10\n",
      " * Number of data per bin = 500\n",
      " * Jet pt range in (800, 1000)\n",
      " * Number of events in pt (800, 820) = 8438\n",
      " * Number of events in pt (820, 840) = 8741\n",
      " * Number of events in pt (840, 860) = 8930\n",
      " * Number of events in pt (860, 880) = 9123\n",
      " * Number of events in pt (880, 900) = 9163\n",
      " * Number of events in pt (900, 920) = 8948\n",
      " * Number of events in pt (920, 940) = 8487\n",
      " * Number of events in pt (940, 960) = 7776\n",
      " * Number of events in pt (960, 980) = 6736\n",
      " * Number of events in pt (980, 1000) = 5347\n",
      "\n"
     ]
    }
   ],
   "source": [
    "for i, channel in enumerate(channel_list):\n",
    "    print(f'Channel: {channel}')\n",
    "    fatjet_list[i].print_bin_info()\n",
    "    print()"
   ]
  }
 ],
 "metadata": {
  "kernelspec": {
   "display_name": "Python 3",
   "language": "python",
   "name": "python3"
  },
  "language_info": {
   "codemirror_mode": {
    "name": "ipython",
    "version": 3
   },
   "file_extension": ".py",
   "mimetype": "text/x-python",
   "name": "python",
   "nbconvert_exporter": "python",
   "pygments_lexer": "ipython3",
   "version": "3.12.2"
  }
 },
 "nbformat": 4,
 "nbformat_minor": 2
}

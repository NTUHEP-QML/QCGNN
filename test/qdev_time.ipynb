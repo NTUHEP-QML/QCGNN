{
 "cells": [
  {
   "cell_type": "markdown",
   "metadata": {},
   "source": [
    "### About this demo\n",
    "\n",
    "This demo test the time cost between different PennyLane quantum devices.\n",
    "\n",
    "**Additional packages required:**\n",
    "- pip install \"pennylane-qulacs[cpu]\"\n",
    "- pip install pennylane-lightning"
   ]
  },
  {
   "cell_type": "code",
   "execution_count": 1,
   "metadata": {},
   "outputs": [
    {
     "name": "stdout",
     "output_type": "stream",
     "text": [
      "Name: PennyLane\n",
      "Version: 0.36.0\n",
      "Summary: PennyLane is a cross-platform Python library for quantum computing, quantum machine learning, and quantum chemistry. Train a quantum computer the same way as a neural network.\n",
      "Home-page: https://github.com/PennyLaneAI/pennylane\n",
      "Author: \n",
      "Author-email: \n",
      "License: Apache License 2.0\n",
      "Location: /home/yianchen/.pyenv/versions/3.12.2/lib/python3.12/site-packages\n",
      "Requires: appdirs, autograd, autoray, cachetools, networkx, numpy, pennylane-lightning, requests, rustworkx, scipy, semantic-version, toml, typing-extensions\n",
      "Required-by: PennyLane-qiskit, pennylane-qulacs, PennyLane_Lightning, QCGNN\n",
      "\n",
      "Platform info:           Linux-5.14.0-362.8.1.el9_3.x86_64-x86_64-with-glibc2.34\n",
      "Python version:          3.12.2\n",
      "Numpy version:           1.26.4\n",
      "Scipy version:           1.13.0\n",
      "Installed devices:\n",
      "- lightning.qubit (PennyLane_Lightning-0.36.0)\n",
      "- default.clifford (PennyLane-0.36.0)\n",
      "- default.gaussian (PennyLane-0.36.0)\n",
      "- default.mixed (PennyLane-0.36.0)\n",
      "- default.qubit (PennyLane-0.36.0)\n",
      "- default.qubit.autograd (PennyLane-0.36.0)\n",
      "- default.qubit.jax (PennyLane-0.36.0)\n",
      "- default.qubit.legacy (PennyLane-0.36.0)\n",
      "- default.qubit.tf (PennyLane-0.36.0)\n",
      "- default.qubit.torch (PennyLane-0.36.0)\n",
      "- default.qutrit (PennyLane-0.36.0)\n",
      "- default.qutrit.mixed (PennyLane-0.36.0)\n",
      "- null.qubit (PennyLane-0.36.0)\n",
      "- qiskit.aer (PennyLane-qiskit-0.36.0)\n",
      "- qiskit.basicaer (PennyLane-qiskit-0.36.0)\n",
      "- qiskit.basicsim (PennyLane-qiskit-0.36.0)\n",
      "- qiskit.ibmq (PennyLane-qiskit-0.36.0)\n",
      "- qiskit.ibmq.circuit_runner (PennyLane-qiskit-0.36.0)\n",
      "- qiskit.ibmq.sampler (PennyLane-qiskit-0.36.0)\n",
      "- qiskit.remote (PennyLane-qiskit-0.36.0)\n",
      "- qulacs.simulator (pennylane-qulacs-0.36.0)\n"
     ]
    }
   ],
   "source": [
    "import os\n",
    "import sys\n",
    "import time\n",
    "\n",
    "import pennylane as qml\n",
    "import torch\n",
    "import torch.nn as nn\n",
    "\n",
    "sys.path.append(os.path.abspath('../'))\n",
    "\n",
    "from source.models.qcgnn import QuantumRotQCGNN\n",
    "\n",
    "os.environ['OMP_NUM_THREADS'] = '8'\n",
    "\n",
    "qml.about()"
   ]
  },
  {
   "cell_type": "code",
   "execution_count": 2,
   "metadata": {},
   "outputs": [
    {
     "name": "stdout",
     "output_type": "stream",
     "text": [
      "# ModelLog: Quantum device  = default.qubit\n",
      "# ModelLog: Quantum backend = qiskit\n",
      "# ModelLog: Qubits (IR, WK, NR) = ((4, 3, 3))\n",
      "- Epoch: 0 | Loss: 12.7624\n",
      "- Epoch: 1 | Loss: 23.1522\n",
      "- Epoch: 2 | Loss: 19.9279\n",
      "- Epoch: 3 | Loss: 12.8589\n",
      "- Epoch: 4 | Loss: 6.7814\n",
      "* Device: default.qubit | Time: 2.84 s\n",
      "\n",
      "# ModelLog: Quantum device  = lightning.qubit\n",
      "# ModelLog: Quantum backend = qiskit\n",
      "# ModelLog: Qubits (IR, WK, NR) = ((4, 3, 3))\n",
      "- Epoch: 0 | Loss: 8.1098\n",
      "- Epoch: 1 | Loss: 15.5815\n",
      "- Epoch: 2 | Loss: 13.4436\n",
      "- Epoch: 3 | Loss: 4.4681\n",
      "- Epoch: 4 | Loss: 1.7048\n",
      "* Device: lightning.qubit | Time: 29.39 s\n",
      "\n",
      "# ModelLog: Quantum device  = qulacs.simulator\n",
      "# ModelLog: Quantum backend = qiskit\n",
      "# ModelLog: Qubits (IR, WK, NR) = ((4, 3, 3))\n"
     ]
    }
   ],
   "source": [
    "q_setup = [\n",
    "    ('default.qubit', 'best'),\n",
    "    ('lightning.qubit', 'adjoint'),\n",
    "    ('qulacs.simulator', 'best'),\n",
    "]\n",
    "\n",
    "batch_size = 128\n",
    "num_ptcs = 16\n",
    "score_dim = 3\n",
    "\n",
    "x = torch.rand(batch_size, num_ptcs, 3)\n",
    "y = torch.randint(low=0, high=score_dim, size=(batch_size, ))\n",
    "\n",
    "for dev, diff_method in q_setup:\n",
    "\n",
    "    time_start = time.time()\n",
    "    \n",
    "    model = QuantumRotQCGNN(\n",
    "        num_ir_qubits=4,\n",
    "        num_nr_qubits=3,\n",
    "        num_layers=1,\n",
    "        num_reupload=1,\n",
    "        score_dim=score_dim,\n",
    "        qdevice=dev,\n",
    "        qbackend='qiskit',\n",
    "        diff_method=diff_method,\n",
    "    )\n",
    "    \n",
    "    optimizer = torch.optim.RAdam(model.parameters(), lr=1E-2)\n",
    "    loss_func = nn.CrossEntropyLoss()\n",
    "\n",
    "    for epoch in range(5):\n",
    "        optimizer.zero_grad()\n",
    "        loss = loss_func(model(x), y)\n",
    "        loss.backward()\n",
    "        optimizer.step()\n",
    "\n",
    "        print(f\"- Epoch: {epoch} | Loss: {loss.item():.4f}\")\n",
    "    \n",
    "    time_end = time.time()\n",
    "\n",
    "    print(f\"* Device: {dev} | Time: {time_end - time_start:.2f} s\\n\")"
   ]
  }
 ],
 "metadata": {
  "kernelspec": {
   "display_name": "Python 3",
   "language": "python",
   "name": "python3"
  },
  "language_info": {
   "codemirror_mode": {
    "name": "ipython",
    "version": 3
   },
   "file_extension": ".py",
   "mimetype": "text/x-python",
   "name": "python",
   "nbconvert_exporter": "python",
   "pygments_lexer": "ipython3",
   "version": "3.12.2"
  }
 },
 "nbformat": 4,
 "nbformat_minor": 2
}

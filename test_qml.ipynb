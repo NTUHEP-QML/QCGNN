{
 "cells": [
  {
   "cell_type": "code",
   "execution_count": 4,
   "metadata": {},
   "outputs": [
    {
     "name": "stdout",
     "output_type": "stream",
     "text": [
      "Python version: 3.9.12 (main, May 25 2023, 22:45:03) \n",
      "[GCC 9.4.0]\n",
      "PyTorch version: 2.0.1+cu118\n",
      "Pennylane version: 0.33.1\n",
      "circuit inputs shape = torch.Size([60, 2])\n",
      "x.shape = torch.Size([60, 2])\n",
      "net(dataset) shape = torch.Size([5, 4, 3])\n"
     ]
    }
   ],
   "source": [
    "import sys\n",
    "import torch\n",
    "import torch.nn as nn\n",
    "import pennylane as qml\n",
    "print(f\"Python version: {sys.version}\")\n",
    "print(f\"PyTorch version: {torch.__version__}\")\n",
    "print(f\"Pennylane version: {qml.__version__}\")\n",
    "\n",
    "\n",
    "def weird_embedding(x):\n",
    "    # x is supposed to be a single data, not a batch of data\n",
    "    print(f\"x.shape = {x.shape}\")\n",
    "    for i in range(x.shape[1]-1):\n",
    "        qml.CRX(x[:, i], wires=[i, (i+1)])\n",
    "        qml.T(wires=i)\n",
    "        qml.CRY(x[:, i], wires=[i, (i+1)])\n",
    "        qml.S(wires=(i+1))\n",
    "        qml.CRZ(x[:, i], wires=[i, (i+1)])\n",
    "    qml.Hadamard(wires=0)\n",
    "\n",
    "device = qml.device(\"default.qubit\", wires=3)\n",
    "@qml.qnode(device)\n",
    "def circuit(inputs, weights):\n",
    "    print(f\"circuit inputs shape = {inputs.shape}\")\n",
    "    # qml.AngleEmbedding(inputs, wires=range(2))\n",
    "    # qml.AmplitudeEmbedding(inputs, wires=range(2), pad_with=0, normalize=True)\n",
    "    # qml.IQPEmbedding(inputs, wires=range(2))\n",
    "    weird_embedding(inputs)\n",
    "    qml.Hadamard(wires=0)\n",
    "    qml.CNOT(wires=(0,1))\n",
    "    return qml.expval(qml.PauliX(0))\n",
    "\n",
    "torch_layer = qml.qnn.TorchLayer(circuit, weight_shapes = {\"weights\": (0)})\n",
    "net = nn.Sequential(torch_layer)\n",
    "\n",
    "batch_size = (5,4,3)\n",
    "inputs_shape = (2)\n",
    "dataset = torch.rand(*batch_size, inputs_shape)\n",
    "print(f\"net(dataset) shape = {net(dataset).shape}\")"
   ]
  }
 ],
 "metadata": {
  "kernelspec": {
   "display_name": "Python 3",
   "language": "python",
   "name": "python3"
  },
  "language_info": {
   "codemirror_mode": {
    "name": "ipython",
    "version": 3
   },
   "file_extension": ".py",
   "mimetype": "text/x-python",
   "name": "python",
   "nbconvert_exporter": "python",
   "pygments_lexer": "ipython3",
   "version": "3.9.12"
  }
 },
 "nbformat": 4,
 "nbformat_minor": 2
}

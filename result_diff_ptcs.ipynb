{
 "cells": [
  {
   "cell_type": "markdown",
   "metadata": {},
   "source": [
    "### About this result\n",
    "\n",
    "Test the pretrained model (trained with 8 particles per event) with different number of particles."
   ]
  },
  {
   "cell_type": "code",
   "execution_count": null,
   "metadata": {},
   "outputs": [],
   "source": [
    "import matplotlib.pyplot as plt\n",
    "import pandas as pd\n",
    "import seaborn as sns\n",
    "\n",
    "import g_main\n",
    "\n",
    "sns.set_theme()"
   ]
  },
  {
   "cell_type": "code",
   "execution_count": null,
   "metadata": {},
   "outputs": [],
   "source": [
    "# Range of different number of particles.\n",
    "diff_ptcs_range = range(2, 16 + 1)\n",
    "\n",
    "# The csv files that stored the prediction information.\n",
    "pred_dir = f\"{g_main.json_config['predictions_dir']}/ideal_model\"\n",
    "num_bin_data = 500 # Number of data in a bin.\n",
    "num_rnd_seed = 3 # Number of random seeds that has been predicted.\n",
    "csv_best = f\"{pred_dir}/best_classical-{num_bin_data}_{num_rnd_seed - 1}.csv\"\n",
    "csv_classical = f\"{pred_dir}/classical-{num_bin_data}_{num_rnd_seed - 1}.csv\"\n",
    "csv_quantum = f\"{pred_dir}/quantum-{num_bin_data}_{num_rnd_seed - 1}.csv\"\n",
    "\n",
    "# Create pandas dataframes.\n",
    "df_best = pd.read_csv(csv_best)\n",
    "df_classical = pd.read_csv(csv_classical)\n",
    "df_quantum = pd.read_csv(csv_quantum)\n",
    "df = pd.concat((df_best, df_classical, df_quantum))\n",
    "\n",
    "# Fill NaN or None with value 0.\n",
    "df = df.fillna(0)\n",
    "\n",
    "# Retain columns we need.\n",
    "retain_info = [\n",
    "    \"model_name\", \"abbrev\", \"data_mode\", \"num_pt_ptcs\", \"test_acc_epoch\",\n",
    "    \"rnd_seed\", \"gnn_out\", \"gnn_hidden\", \"gnn_layers\",\n",
    "    \"gnn_nn_qubits\", \"gnn_reupload\"\n",
    "]\n",
    "df = df[retain_info]\n",
    "\n",
    "# Create new columns for seaborn `hue`.\n",
    "df.loc[df[\"gnn_out\"].astype(int) == 1024, \"M\"] = \"B\"     # Best classical.\n",
    "df.loc[df[\"model_name\"] == \"ClassicalMPGNN\", \"M\"] = \"C\"  # Classical.\n",
    "df.loc[df[\"model_name\"] == \"QuantumRotQCGNN\", \"M\"] = \"Q\" # Quantum.\n",
    "\n",
    "# Key \"data_mode\" in df cooresponds to training or testing data.\n",
    "df[\"hue\"] = df[\"M\"] + \"_\" + df[\"data_mode\"]\n",
    "print(f\"Hue for seaborn: {df['hue'].unique()}\")\n",
    "df"
   ]
  },
  {
   "cell_type": "code",
   "execution_count": null,
   "metadata": {},
   "outputs": [],
   "source": [
    "# Figure setup.\n",
    "abbrev_list = [\"BB-QCD\", \"TT-QCD\"]\n",
    "dim_list = [3, 6, 9]\n",
    "num_row = len(abbrev_list)\n",
    "num_col = len(dim_list)\n",
    "width, height = 5 * num_col, 5 * num_row\n",
    "fig, ax = plt.subplots(num_row, num_col, figsize=(width, height))\n",
    "\n",
    "for i, abbrev in enumerate(abbrev_list):\n",
    "    for j, dim in enumerate(dim_list):\n",
    "        \n",
    "        # Indices with corresponding dimension.\n",
    "        is_dim = (\n",
    "            # Best classical and classical with dimension `dim`.\n",
    "            (df[\"M\"] ==  \"B\") | (df[\"gnn_out\"].astype(int) == dim) | \\\n",
    "            # Quantum with dimension `dim`.\n",
    "            (df[\"gnn_nn_qubits\"].astype(int) == dim)\n",
    "        )\n",
    "\n",
    "        # Indices with corresponding abbrev (channels of jet discrimination).\n",
    "        is_abbrev = (df[\"abbrev\"] == abbrev)\n",
    "\n",
    "        # Set y-axis limits.\n",
    "        ax[i][j].set_ylim(0.4, 0.9)\n",
    "\n",
    "        # Line plot.\n",
    "        sns.lineplot(\n",
    "            data=df[is_dim & is_abbrev], ax=ax[i][j],\n",
    "            x=\"num_pt_ptcs\", y=\"test_acc_epoch\", hue=\"hue\",\n",
    "            errorbar=\"se\", marker=\"o\"\n",
    "        )\n",
    "\n",
    "        # # Bar plot.\n",
    "        # sns.barplot(\n",
    "        #     data=df[is_dim & is_abbrev], ax=ax[1][i],\n",
    "        #     x=\"num_pt_ptcs\", y=\"test_acc_epoch\", hue=\"hue\",\n",
    "        #     errorbar=None\n",
    "        # )\n",
    "\n",
    "plt.tight_layout()"
   ]
  }
 ],
 "metadata": {
  "kernelspec": {
   "display_name": "Python 3",
   "language": "python",
   "name": "python3"
  },
  "language_info": {
   "codemirror_mode": {
    "name": "ipython",
    "version": 3
   },
   "file_extension": ".py",
   "mimetype": "text/x-python",
   "name": "python",
   "nbconvert_exporter": "python",
   "pygments_lexer": "ipython3",
   "version": "3.9.12"
  }
 },
 "nbformat": 4,
 "nbformat_minor": 2
}

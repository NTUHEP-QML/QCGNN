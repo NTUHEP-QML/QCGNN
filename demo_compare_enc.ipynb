{
 "cells": [
  {
   "cell_type": "markdown",
   "metadata": {},
   "source": [
    "### About this demo\n",
    "\n",
    "This demo shows the equivalence of `pennylane_encoding` and `qiskit_encoding` in main script, and the equivalence of `QCGNN_IX` and `QCGNN_0`."
   ]
  },
  {
   "cell_type": "code",
   "execution_count": null,
   "metadata": {},
   "outputs": [],
   "source": [
    "import lightning as L\n",
    "import module_model\n",
    "from pennylane import numpy as np\n",
    "import torch\n",
    "\n",
    "import g_main"
   ]
  },
  {
   "cell_type": "code",
   "execution_count": null,
   "metadata": {},
   "outputs": [],
   "source": [
    "def gen_encoding_func(num_ir_qubits: int, num_nr_qubits: int, backend: str):\n",
    "    # Determine backend.\n",
    "    if backend == \"pennylane\":\n",
    "        encoding_func = g_main.pennylane_encoding\n",
    "    elif backend == \"qiskit\":\n",
    "        encoding_func = g_main.qiskit_encoding\n",
    "    \n",
    "    # Return the lambda function.\n",
    "    return lambda ptc_input, control_values: \\\n",
    "        encoding_func(\n",
    "            ptc_input=ptc_input,\n",
    "            control_values=control_values,\n",
    "            num_ir_qubits=num_ir_qubits,\n",
    "            num_nr_qubits=num_nr_qubits,\n",
    "        )"
   ]
  },
  {
   "cell_type": "code",
   "execution_count": 5,
   "metadata": {},
   "outputs": [
    {
     "name": "stderr",
     "output_type": "stream",
     "text": [
      "Global seed set to 0\n",
      "Global seed set to 0\n",
      "Global seed set to 0\n",
      "Global seed set to 0\n"
     ]
    },
    {
     "name": "stdout",
     "output_type": "stream",
     "text": [
      "# ModelLog: Quantum device  = default.qubit\n",
      "# ModelLog: Quantum backend = pennylane\n",
      "# ModelLog: Qubits (IR, WK, NR) = (3, 0, 2)\n",
      "# ModelLog: Quantum device  = default.qubit\n",
      "# ModelLog: Quantum backend = pennylane\n",
      "# ModelLog: Qubits (IR, WK, NR) = (3, 0, 2)\n",
      "# ModelLog: Quantum device  = default.qubit\n",
      "# ModelLog: Quantum backend = qiskit\n",
      "# ModelLog: Qubits (IR, WK, NR) = (3, 2, 2)\n",
      "# ModelLog: Quantum device  = default.qubit\n",
      "# ModelLog: Quantum backend = qiskit\n",
      "# ModelLog: Qubits (IR, WK, NR) = (3, 2, 2)\n"
     ]
    },
    {
     "name": "stderr",
     "output_type": "stream",
     "text": [
      "/Users/yianchen/.pyenv/versions/3.9.12/lib/python3.9/site-packages/pennylane/math/utils.py:227: UserWarning: Contains tensors of types {'torch', 'autograd'}; dispatch will prioritize TensorFlow, PyTorch, and  Jax over Autograd. Consider replacing Autograd with vanilla NumPy.\n",
      "  warnings.warn(\n",
      "Global seed set to 1\n",
      "Global seed set to 1\n",
      "Global seed set to 1\n",
      "Global seed set to 1\n"
     ]
    },
    {
     "name": "stdout",
     "output_type": "stream",
     "text": [
      "\n",
      "Result running with PennyLane encoding:\n",
      " - QCGNN_IX -> tensor([-21.1515,   0.1108], grad_fn=<ViewBackward0>)\n",
      " - QCGNN_0  -> tensor([-21.1515,   0.1108], grad_fn=<ViewBackward0>)\n",
      "Result running with Qiskit encoding:\n",
      " - QCGNN_IX -> tensor([-21.1515,   0.1108], grad_fn=<ViewBackward0>)\n",
      " - QCGNN_0  -> tensor([-21.1515,   0.1108], grad_fn=<ViewBackward0>)\n",
      "\n",
      "----------------------------------------------------------------------------------------------------\n",
      "\n",
      "# ModelLog: Quantum device  = default.qubit\n",
      "# ModelLog: Quantum backend = pennylane\n",
      "# ModelLog: Qubits (IR, WK, NR) = (3, 0, 2)\n",
      "# ModelLog: Quantum device  = default.qubit\n",
      "# ModelLog: Quantum backend = pennylane\n",
      "# ModelLog: Qubits (IR, WK, NR) = (3, 0, 2)\n",
      "# ModelLog: Quantum device  = default.qubit\n",
      "# ModelLog: Quantum backend = qiskit\n",
      "# ModelLog: Qubits (IR, WK, NR) = (3, 2, 2)\n",
      "# ModelLog: Quantum device  = default.qubit\n",
      "# ModelLog: Quantum backend = qiskit\n",
      "# ModelLog: Qubits (IR, WK, NR) = (3, 2, 2)\n"
     ]
    },
    {
     "name": "stderr",
     "output_type": "stream",
     "text": [
      "Global seed set to 2\n",
      "Global seed set to 2\n",
      "Global seed set to 2\n",
      "Global seed set to 2\n"
     ]
    },
    {
     "name": "stdout",
     "output_type": "stream",
     "text": [
      "\n",
      "Result running with PennyLane encoding:\n",
      " - QCGNN_IX -> tensor([-26.6354, -27.7502], grad_fn=<ViewBackward0>)\n",
      " - QCGNN_0  -> tensor([-26.6354, -27.7502], grad_fn=<ViewBackward0>)\n",
      "Result running with Qiskit encoding:\n",
      " - QCGNN_IX -> tensor([-26.6354, -27.7502], grad_fn=<ViewBackward0>)\n",
      " - QCGNN_0  -> tensor([-26.6354, -27.7502], grad_fn=<ViewBackward0>)\n",
      "\n",
      "----------------------------------------------------------------------------------------------------\n",
      "\n",
      "# ModelLog: Quantum device  = default.qubit\n",
      "# ModelLog: Quantum backend = pennylane\n",
      "# ModelLog: Qubits (IR, WK, NR) = (3, 0, 2)\n",
      "# ModelLog: Quantum device  = default.qubit\n",
      "# ModelLog: Quantum backend = pennylane\n",
      "# ModelLog: Qubits (IR, WK, NR) = (3, 0, 2)\n",
      "# ModelLog: Quantum device  = default.qubit\n",
      "# ModelLog: Quantum backend = qiskit\n",
      "# ModelLog: Qubits (IR, WK, NR) = (3, 2, 2)\n",
      "# ModelLog: Quantum device  = default.qubit\n",
      "# ModelLog: Quantum backend = qiskit\n",
      "# ModelLog: Qubits (IR, WK, NR) = (3, 2, 2)\n"
     ]
    },
    {
     "name": "stderr",
     "output_type": "stream",
     "text": [
      "Global seed set to 3\n",
      "Global seed set to 3\n",
      "Global seed set to 3\n",
      "Global seed set to 3\n"
     ]
    },
    {
     "name": "stdout",
     "output_type": "stream",
     "text": [
      "\n",
      "Result running with PennyLane encoding:\n",
      " - QCGNN_IX -> tensor([ 2.3728, 22.1480], grad_fn=<ViewBackward0>)\n",
      " - QCGNN_0  -> tensor([ 2.3728, 22.1480], grad_fn=<ViewBackward0>)\n",
      "Result running with Qiskit encoding:\n",
      " - QCGNN_IX -> tensor([ 2.3728, 22.1480], grad_fn=<ViewBackward0>)\n",
      " - QCGNN_0  -> tensor([ 2.3728, 22.1480], grad_fn=<ViewBackward0>)\n",
      "\n",
      "----------------------------------------------------------------------------------------------------\n",
      "\n",
      "# ModelLog: Quantum device  = default.qubit\n",
      "# ModelLog: Quantum backend = pennylane\n",
      "# ModelLog: Qubits (IR, WK, NR) = (3, 0, 2)\n",
      "# ModelLog: Quantum device  = default.qubit\n",
      "# ModelLog: Quantum backend = pennylane\n",
      "# ModelLog: Qubits (IR, WK, NR) = (3, 0, 2)\n",
      "# ModelLog: Quantum device  = default.qubit\n",
      "# ModelLog: Quantum backend = qiskit\n",
      "# ModelLog: Qubits (IR, WK, NR) = (3, 2, 2)\n",
      "# ModelLog: Quantum device  = default.qubit\n",
      "# ModelLog: Quantum backend = qiskit\n",
      "# ModelLog: Qubits (IR, WK, NR) = (3, 2, 2)\n"
     ]
    },
    {
     "name": "stderr",
     "output_type": "stream",
     "text": [
      "Global seed set to 4\n",
      "Global seed set to 4\n",
      "Global seed set to 4\n",
      "Global seed set to 4\n"
     ]
    },
    {
     "name": "stdout",
     "output_type": "stream",
     "text": [
      "\n",
      "Result running with PennyLane encoding:\n",
      " - QCGNN_IX -> tensor([4.5818, 2.2665], grad_fn=<ViewBackward0>)\n",
      " - QCGNN_0  -> tensor([4.5818, 2.2665], grad_fn=<ViewBackward0>)\n",
      "Result running with Qiskit encoding:\n",
      " - QCGNN_IX -> tensor([4.5818, 2.2665], grad_fn=<ViewBackward0>)\n",
      " - QCGNN_0  -> tensor([4.5818, 2.2665], grad_fn=<ViewBackward0>)\n",
      "\n",
      "----------------------------------------------------------------------------------------------------\n",
      "\n",
      "# ModelLog: Quantum device  = default.qubit\n",
      "# ModelLog: Quantum backend = pennylane\n",
      "# ModelLog: Qubits (IR, WK, NR) = (3, 0, 2)\n",
      "# ModelLog: Quantum device  = default.qubit\n",
      "# ModelLog: Quantum backend = pennylane\n",
      "# ModelLog: Qubits (IR, WK, NR) = (3, 0, 2)\n",
      "# ModelLog: Quantum device  = default.qubit\n",
      "# ModelLog: Quantum backend = qiskit\n",
      "# ModelLog: Qubits (IR, WK, NR) = (3, 2, 2)\n",
      "# ModelLog: Quantum device  = default.qubit\n",
      "# ModelLog: Quantum backend = qiskit\n",
      "# ModelLog: Qubits (IR, WK, NR) = (3, 2, 2)\n"
     ]
    },
    {
     "name": "stderr",
     "output_type": "stream",
     "text": [
      "Global seed set to 5\n",
      "Global seed set to 5\n",
      "Global seed set to 5\n",
      "Global seed set to 5\n"
     ]
    },
    {
     "name": "stdout",
     "output_type": "stream",
     "text": [
      "\n",
      "Result running with PennyLane encoding:\n",
      " - QCGNN_IX -> tensor([-34.3187,  20.2769], grad_fn=<ViewBackward0>)\n",
      " - QCGNN_0  -> tensor([-34.3187,  20.2769], grad_fn=<ViewBackward0>)\n",
      "Result running with Qiskit encoding:\n",
      " - QCGNN_IX -> tensor([-34.3187,  20.2769], grad_fn=<ViewBackward0>)\n",
      " - QCGNN_0  -> tensor([-34.3187,  20.2769], grad_fn=<ViewBackward0>)\n",
      "\n",
      "----------------------------------------------------------------------------------------------------\n",
      "\n",
      "# ModelLog: Quantum device  = default.qubit\n",
      "# ModelLog: Quantum backend = pennylane\n",
      "# ModelLog: Qubits (IR, WK, NR) = (3, 0, 2)\n",
      "# ModelLog: Quantum device  = default.qubit\n",
      "# ModelLog: Quantum backend = pennylane\n",
      "# ModelLog: Qubits (IR, WK, NR) = (3, 0, 2)\n",
      "# ModelLog: Quantum device  = default.qubit\n",
      "# ModelLog: Quantum backend = qiskit\n",
      "# ModelLog: Qubits (IR, WK, NR) = (3, 2, 2)\n",
      "# ModelLog: Quantum device  = default.qubit\n",
      "# ModelLog: Quantum backend = qiskit\n",
      "# ModelLog: Qubits (IR, WK, NR) = (3, 2, 2)\n"
     ]
    },
    {
     "name": "stderr",
     "output_type": "stream",
     "text": [
      "Global seed set to 6\n",
      "Global seed set to 6\n",
      "Global seed set to 6\n",
      "Global seed set to 6\n"
     ]
    },
    {
     "name": "stdout",
     "output_type": "stream",
     "text": [
      "\n",
      "Result running with PennyLane encoding:\n",
      " - QCGNN_IX -> tensor([-15.1577,  10.6932], grad_fn=<ViewBackward0>)\n",
      " - QCGNN_0  -> tensor([-15.1577,  10.6932], grad_fn=<ViewBackward0>)\n",
      "Result running with Qiskit encoding:\n",
      " - QCGNN_IX -> tensor([-15.1577,  10.6932], grad_fn=<ViewBackward0>)\n",
      " - QCGNN_0  -> tensor([-15.1578,  10.6932], grad_fn=<ViewBackward0>)\n",
      "\n",
      "----------------------------------------------------------------------------------------------------\n",
      "\n",
      "# ModelLog: Quantum device  = default.qubit\n",
      "# ModelLog: Quantum backend = pennylane\n",
      "# ModelLog: Qubits (IR, WK, NR) = (3, 0, 2)\n",
      "# ModelLog: Quantum device  = default.qubit\n",
      "# ModelLog: Quantum backend = pennylane\n",
      "# ModelLog: Qubits (IR, WK, NR) = (3, 0, 2)\n",
      "# ModelLog: Quantum device  = default.qubit\n",
      "# ModelLog: Quantum backend = qiskit\n",
      "# ModelLog: Qubits (IR, WK, NR) = (3, 2, 2)\n",
      "# ModelLog: Quantum device  = default.qubit\n",
      "# ModelLog: Quantum backend = qiskit\n",
      "# ModelLog: Qubits (IR, WK, NR) = (3, 2, 2)\n"
     ]
    },
    {
     "name": "stderr",
     "output_type": "stream",
     "text": [
      "Global seed set to 7\n",
      "Global seed set to 7\n",
      "Global seed set to 7\n",
      "Global seed set to 7\n"
     ]
    },
    {
     "name": "stdout",
     "output_type": "stream",
     "text": [
      "\n",
      "Result running with PennyLane encoding:\n",
      " - QCGNN_IX -> tensor([-4.9720, 14.3686], grad_fn=<ViewBackward0>)\n",
      " - QCGNN_0  -> tensor([-4.9720, 14.3686], grad_fn=<ViewBackward0>)\n",
      "Result running with Qiskit encoding:\n",
      " - QCGNN_IX -> tensor([-4.9720, 14.3686], grad_fn=<ViewBackward0>)\n",
      " - QCGNN_0  -> tensor([-4.9720, 14.3686], grad_fn=<ViewBackward0>)\n",
      "\n",
      "----------------------------------------------------------------------------------------------------\n",
      "\n",
      "# ModelLog: Quantum device  = default.qubit\n",
      "# ModelLog: Quantum backend = pennylane\n",
      "# ModelLog: Qubits (IR, WK, NR) = (3, 0, 2)\n",
      "# ModelLog: Quantum device  = default.qubit\n",
      "# ModelLog: Quantum backend = pennylane\n",
      "# ModelLog: Qubits (IR, WK, NR) = (3, 0, 2)\n",
      "# ModelLog: Quantum device  = default.qubit\n",
      "# ModelLog: Quantum backend = qiskit\n",
      "# ModelLog: Qubits (IR, WK, NR) = (3, 2, 2)\n",
      "# ModelLog: Quantum device  = default.qubit\n",
      "# ModelLog: Quantum backend = qiskit\n",
      "# ModelLog: Qubits (IR, WK, NR) = (3, 2, 2)\n"
     ]
    },
    {
     "name": "stderr",
     "output_type": "stream",
     "text": [
      "Global seed set to 8\n",
      "Global seed set to 8\n",
      "Global seed set to 8\n",
      "Global seed set to 8\n"
     ]
    },
    {
     "name": "stdout",
     "output_type": "stream",
     "text": [
      "\n",
      "Result running with PennyLane encoding:\n",
      " - QCGNN_IX -> tensor([-12.9816,   3.6373], grad_fn=<ViewBackward0>)\n",
      " - QCGNN_0  -> tensor([-12.9816,   3.6373], grad_fn=<ViewBackward0>)\n",
      "Result running with Qiskit encoding:\n",
      " - QCGNN_IX -> tensor([-12.9816,   3.6373], grad_fn=<ViewBackward0>)\n",
      " - QCGNN_0  -> tensor([-12.9816,   3.6373], grad_fn=<ViewBackward0>)\n",
      "\n",
      "----------------------------------------------------------------------------------------------------\n",
      "\n",
      "# ModelLog: Quantum device  = default.qubit\n",
      "# ModelLog: Quantum backend = pennylane\n",
      "# ModelLog: Qubits (IR, WK, NR) = (3, 0, 2)\n",
      "# ModelLog: Quantum device  = default.qubit\n",
      "# ModelLog: Quantum backend = pennylane\n",
      "# ModelLog: Qubits (IR, WK, NR) = (3, 0, 2)\n",
      "# ModelLog: Quantum device  = default.qubit\n",
      "# ModelLog: Quantum backend = qiskit\n",
      "# ModelLog: Qubits (IR, WK, NR) = (3, 2, 2)\n",
      "# ModelLog: Quantum device  = default.qubit\n",
      "# ModelLog: Quantum backend = qiskit\n",
      "# ModelLog: Qubits (IR, WK, NR) = (3, 2, 2)\n"
     ]
    },
    {
     "name": "stderr",
     "output_type": "stream",
     "text": [
      "Global seed set to 9\n",
      "Global seed set to 9\n",
      "Global seed set to 9\n",
      "Global seed set to 9\n"
     ]
    },
    {
     "name": "stdout",
     "output_type": "stream",
     "text": [
      "\n",
      "Result running with PennyLane encoding:\n",
      " - QCGNN_IX -> tensor([-3.5016, 21.1190], grad_fn=<ViewBackward0>)\n",
      " - QCGNN_0  -> tensor([-3.5016, 21.1190], grad_fn=<ViewBackward0>)\n",
      "Result running with Qiskit encoding:\n",
      " - QCGNN_IX -> tensor([-3.5016, 21.1190], grad_fn=<ViewBackward0>)\n",
      " - QCGNN_0  -> tensor([-3.5016, 21.1190], grad_fn=<ViewBackward0>)\n",
      "\n",
      "----------------------------------------------------------------------------------------------------\n",
      "\n",
      "# ModelLog: Quantum device  = default.qubit\n",
      "# ModelLog: Quantum backend = pennylane\n",
      "# ModelLog: Qubits (IR, WK, NR) = (3, 0, 2)\n",
      "# ModelLog: Quantum device  = default.qubit\n",
      "# ModelLog: Quantum backend = pennylane\n",
      "# ModelLog: Qubits (IR, WK, NR) = (3, 0, 2)\n",
      "# ModelLog: Quantum device  = default.qubit\n",
      "# ModelLog: Quantum backend = qiskit\n",
      "# ModelLog: Qubits (IR, WK, NR) = (3, 2, 2)\n",
      "# ModelLog: Quantum device  = default.qubit\n",
      "# ModelLog: Quantum backend = qiskit\n",
      "# ModelLog: Qubits (IR, WK, NR) = (3, 2, 2)\n",
      "\n",
      "Result running with PennyLane encoding:\n",
      " - QCGNN_IX -> tensor([16.0632, 14.4282], grad_fn=<ViewBackward0>)\n",
      " - QCGNN_0  -> tensor([16.0632, 14.4282], grad_fn=<ViewBackward0>)\n",
      "Result running with Qiskit encoding:\n",
      " - QCGNN_IX -> tensor([16.0632, 14.4282], grad_fn=<ViewBackward0>)\n",
      " - QCGNN_0  -> tensor([16.0632, 14.4282], grad_fn=<ViewBackward0>)\n",
      "\n",
      "----------------------------------------------------------------------------------------------------\n",
      "\n"
     ]
    }
   ],
   "source": [
    "num_ir_qubits = 3 # Number of qubits in IR.\n",
    "num_nr_qubits = 2 # Number of qubits in NR.\n",
    "\n",
    "def circuit_IX(backend):\n",
    "    encoding_func = gen_encoding_func(\n",
    "        num_ir_qubits=num_ir_qubits, \n",
    "        num_nr_qubits=num_nr_qubits,\n",
    "        backend=backend\n",
    "    )\n",
    "    return module_model.QCGNN_IX(\n",
    "        num_ir_qubits=num_ir_qubits,\n",
    "        num_nr_qubits=num_nr_qubits,\n",
    "        num_layers=1,\n",
    "        num_reupload=1,\n",
    "        ctrl_enc=encoding_func,\n",
    "        qdevice=\"default.qubit\",\n",
    "        qbackend=backend\n",
    "    )\n",
    "\n",
    "def circuit_0(backend):\n",
    "    encoding_func = gen_encoding_func(\n",
    "        num_ir_qubits=num_ir_qubits, \n",
    "        num_nr_qubits=num_nr_qubits,\n",
    "        backend=backend\n",
    "    )\n",
    "    return module_model.QCGNN_0(\n",
    "        num_ir_qubits=num_ir_qubits,\n",
    "        num_nr_qubits=num_nr_qubits,\n",
    "        num_layers=1,\n",
    "        num_reupload=1,\n",
    "        ctrl_enc=encoding_func,\n",
    "        qdevice=\"default.qubit\",\n",
    "        qbackend=backend\n",
    "    )\n",
    "\n",
    "for rnd_seed in range(10):\n",
    "    L.seed_everything(rnd_seed) # For reproducing weights initialization.\n",
    "    pennylane_circuit_IX = circuit_IX(\"pennylane\")\n",
    "    \n",
    "    L.seed_everything(rnd_seed) # For reproducing weights initialization.\n",
    "    pennylane_circuit_0 = circuit_0(\"pennylane\")\n",
    "\n",
    "    L.seed_everything(rnd_seed) # For reproducing weights initialization.\n",
    "    qiskit_circuit_IX = circuit_IX(\"qiskit\")\n",
    "    \n",
    "    L.seed_everything(rnd_seed) # For reproducing weights initialization.\n",
    "    qiskit_circuit_0 = circuit_0(\"qiskit\")\n",
    "\n",
    "    num_ptcs = np.random.randint(2**num_ir_qubits) + 1\n",
    "    x = torch.rand(num_ptcs, 3)\n",
    "\n",
    "    y_pennylane_IX = pennylane_circuit_IX(x).reshape(-1)\n",
    "    y_pennylane_0 = pennylane_circuit_0(x).reshape(-1)\n",
    "    y_qiskit_IX = qiskit_circuit_IX(x).reshape(-1)\n",
    "    y_qiskit_0 = qiskit_circuit_0(x).reshape(-1)\n",
    "\n",
    "    print()\n",
    "    print(f\"Result running with PennyLane encoding:\")\n",
    "    print(f\" - QCGNN_IX -> {y_pennylane_IX}\")\n",
    "    print(f\" - QCGNN_0  -> {y_pennylane_0}\")\n",
    "\n",
    "    print(f\"Result running with Qiskit encoding:\")\n",
    "    print(f\" - QCGNN_IX -> {y_qiskit_IX}\")\n",
    "    print(f\" - QCGNN_0  -> {y_qiskit_0}\")\n",
    "    \n",
    "    print(f\"\\n{'-'*100}\\n\")"
   ]
  }
 ],
 "metadata": {
  "kernelspec": {
   "display_name": "Python 3",
   "language": "python",
   "name": "python3"
  },
  "language_info": {
   "codemirror_mode": {
    "name": "ipython",
    "version": 3
   },
   "file_extension": ".py",
   "mimetype": "text/x-python",
   "name": "python",
   "nbconvert_exporter": "python",
   "pygments_lexer": "ipython3",
   "version": "3.9.12"
  }
 },
 "nbformat": 4,
 "nbformat_minor": 2
}

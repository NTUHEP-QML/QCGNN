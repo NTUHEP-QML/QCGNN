{
 "cells": [
  {
   "cell_type": "markdown",
   "metadata": {},
   "source": [
    "### About this demo\n",
    "\n",
    "This demo shows the equivalence of `pennylane_encoding` and `qiskit_encoding` in main script."
   ]
  },
  {
   "cell_type": "code",
   "execution_count": 4,
   "metadata": {},
   "outputs": [],
   "source": [
    "import lightning as L\n",
    "import module_model\n",
    "import pennylane as qml\n",
    "from pennylane import numpy as np\n",
    "import torch\n",
    "\n",
    "import g_main"
   ]
  },
  {
   "cell_type": "code",
   "execution_count": 5,
   "metadata": {},
   "outputs": [],
   "source": [
    "def gen_encoding_func(num_ir_qubits: int, num_nr_qubits: int, backend: str):\n",
    "    # Determine backend.\n",
    "    if backend == \"pennylane\":\n",
    "        encoding_func = g_main.pennylane_encoding\n",
    "    elif backend == \"qiskit\":\n",
    "        encoding_func = g_main.qiskit_encoding\n",
    "    \n",
    "    # Return the lambda function.\n",
    "    return lambda ptc_input, control_values: \\\n",
    "        encoding_func(\n",
    "            ptc_input=ptc_input,\n",
    "            control_values=control_values,\n",
    "            num_ir_qubits=num_ir_qubits,\n",
    "            num_nr_qubits=num_nr_qubits,\n",
    "        )"
   ]
  },
  {
   "cell_type": "code",
   "execution_count": 6,
   "metadata": {},
   "outputs": [
    {
     "name": "stderr",
     "output_type": "stream",
     "text": [
      "Global seed set to 0\n",
      "Global seed set to 0\n",
      "Global seed set to 1\n",
      "Global seed set to 1\n"
     ]
    },
    {
     "name": "stdout",
     "output_type": "stream",
     "text": [
      "# ModelLog: Quantum device  = default.qubit\n",
      "# ModelLog: Quantum backend = pennylane\n",
      "# ModelLog: Qubits (IR, WK, NR) = (3, 0, 2)\n",
      "# ModelLog: Quantum device  = default.qubit\n",
      "# ModelLog: Quantum backend = qiskit\n",
      "# ModelLog: Qubits (IR, WK, NR) = (3, 2, 2)\n",
      "Pennylane:\n",
      " - tensor([12.7943, 12.7943], grad_fn=<ReshapeAliasBackward0>)\n",
      "Qiskit:\n",
      " - tensor([12.7943, 12.7943], grad_fn=<ReshapeAliasBackward0>)\n",
      "Difference norm = 0.0000000000\n",
      "\n",
      "----------------------------------------------------------------------------------------------------\n",
      "\n",
      "# ModelLog: Quantum device  = default.qubit\n",
      "# ModelLog: Quantum backend = pennylane\n",
      "# ModelLog: Qubits (IR, WK, NR) = (3, 0, 2)\n",
      "# ModelLog: Quantum device  = default.qubit\n",
      "# ModelLog: Quantum backend = qiskit\n",
      "# ModelLog: Qubits (IR, WK, NR) = (3, 2, 2)\n"
     ]
    },
    {
     "name": "stderr",
     "output_type": "stream",
     "text": [
      "Global seed set to 2\n",
      "Global seed set to 2\n",
      "Global seed set to 3\n",
      "Global seed set to 3\n"
     ]
    },
    {
     "name": "stdout",
     "output_type": "stream",
     "text": [
      "Pennylane:\n",
      " - tensor([24.8036, 24.8036], grad_fn=<ReshapeAliasBackward0>)\n",
      "Qiskit:\n",
      " - tensor([24.8036, 24.8036], grad_fn=<ReshapeAliasBackward0>)\n",
      "Difference norm = 0.0000053948\n",
      "\n",
      "----------------------------------------------------------------------------------------------------\n",
      "\n",
      "# ModelLog: Quantum device  = default.qubit\n",
      "# ModelLog: Quantum backend = pennylane\n",
      "# ModelLog: Qubits (IR, WK, NR) = (3, 0, 2)\n",
      "# ModelLog: Quantum device  = default.qubit\n",
      "# ModelLog: Quantum backend = qiskit\n",
      "# ModelLog: Qubits (IR, WK, NR) = (3, 2, 2)\n",
      "Pennylane:\n",
      " - tensor([11.2104, 11.2104], grad_fn=<ReshapeAliasBackward0>)\n",
      "Qiskit:\n",
      " - tensor([11.2104, 11.2104], grad_fn=<ReshapeAliasBackward0>)\n",
      "Difference norm = 0.0000000000\n",
      "\n",
      "----------------------------------------------------------------------------------------------------\n",
      "\n",
      "# ModelLog: Quantum device  = default.qubit\n",
      "# ModelLog: Quantum backend = pennylane\n",
      "# ModelLog: Qubits (IR, WK, NR) = (3, 0, 2)\n",
      "# ModelLog: Quantum device  = default.qubit\n",
      "# ModelLog: Quantum backend = qiskit\n",
      "# ModelLog: Qubits (IR, WK, NR) = (3, 2, 2)\n"
     ]
    },
    {
     "name": "stderr",
     "output_type": "stream",
     "text": [
      "Global seed set to 4\n",
      "Global seed set to 4\n",
      "Global seed set to 5\n",
      "Global seed set to 5\n"
     ]
    },
    {
     "name": "stdout",
     "output_type": "stream",
     "text": [
      "Pennylane:\n",
      " - tensor([0.8598, 0.8598], grad_fn=<ReshapeAliasBackward0>)\n",
      "Qiskit:\n",
      " - tensor([0.8598, 0.8598], grad_fn=<ReshapeAliasBackward0>)\n",
      "Difference norm = 0.0000000843\n",
      "\n",
      "----------------------------------------------------------------------------------------------------\n",
      "\n",
      "# ModelLog: Quantum device  = default.qubit\n",
      "# ModelLog: Quantum backend = pennylane\n",
      "# ModelLog: Qubits (IR, WK, NR) = (3, 0, 2)\n",
      "# ModelLog: Quantum device  = default.qubit\n",
      "# ModelLog: Quantum backend = qiskit\n",
      "# ModelLog: Qubits (IR, WK, NR) = (3, 2, 2)\n",
      "Pennylane:\n",
      " - tensor([-16.0868, -16.0868], grad_fn=<ReshapeAliasBackward0>)\n",
      "Qiskit:\n",
      " - tensor([-16.0868, -16.0868], grad_fn=<ReshapeAliasBackward0>)\n",
      "Difference norm = 0.0000000000\n",
      "\n",
      "----------------------------------------------------------------------------------------------------\n",
      "\n",
      "# ModelLog: Quantum device  = default.qubit\n",
      "# ModelLog: Quantum backend = pennylane\n",
      "# ModelLog: Qubits (IR, WK, NR) = (3, 0, 2)\n",
      "# ModelLog: Quantum device  = default.qubit\n",
      "# ModelLog: Quantum backend = qiskit\n",
      "# ModelLog: Qubits (IR, WK, NR) = (3, 2, 2)\n"
     ]
    },
    {
     "name": "stderr",
     "output_type": "stream",
     "text": [
      "Global seed set to 6\n",
      "Global seed set to 6\n",
      "Global seed set to 7\n",
      "Global seed set to 7\n"
     ]
    },
    {
     "name": "stdout",
     "output_type": "stream",
     "text": [
      "Pennylane:\n",
      " - tensor([6.7341, 6.7341], grad_fn=<ReshapeAliasBackward0>)\n",
      "Qiskit:\n",
      " - tensor([6.7341, 6.7341], grad_fn=<ReshapeAliasBackward0>)\n",
      "Difference norm = 0.0000013487\n",
      "\n",
      "----------------------------------------------------------------------------------------------------\n",
      "\n",
      "# ModelLog: Quantum device  = default.qubit\n",
      "# ModelLog: Quantum backend = pennylane\n",
      "# ModelLog: Qubits (IR, WK, NR) = (3, 0, 2)\n",
      "# ModelLog: Quantum device  = default.qubit\n",
      "# ModelLog: Quantum backend = qiskit\n",
      "# ModelLog: Qubits (IR, WK, NR) = (3, 2, 2)\n",
      "Pennylane:\n",
      " - tensor([-4.6039, -4.6039], grad_fn=<ReshapeAliasBackward0>)\n",
      "Qiskit:\n",
      " - tensor([-4.6039, -4.6039], grad_fn=<ReshapeAliasBackward0>)\n",
      "Difference norm = 0.0000006743\n",
      "\n",
      "----------------------------------------------------------------------------------------------------\n",
      "\n",
      "# ModelLog: Quantum device  = default.qubit\n",
      "# ModelLog: Quantum backend = pennylane\n",
      "# ModelLog: Qubits (IR, WK, NR) = (3, 0, 2)\n",
      "# ModelLog: Quantum device  = default.qubit\n",
      "# ModelLog: Quantum backend = qiskit\n",
      "# ModelLog: Qubits (IR, WK, NR) = (3, 2, 2)\n"
     ]
    },
    {
     "name": "stderr",
     "output_type": "stream",
     "text": [
      "Global seed set to 8\n",
      "Global seed set to 8\n",
      "Global seed set to 9\n",
      "Global seed set to 9\n"
     ]
    },
    {
     "name": "stdout",
     "output_type": "stream",
     "text": [
      "Pennylane:\n",
      " - tensor([5.2140, 5.2140], grad_fn=<ReshapeAliasBackward0>)\n",
      "Qiskit:\n",
      " - tensor([5.2140, 5.2140], grad_fn=<ReshapeAliasBackward0>)\n",
      "Difference norm = 0.0000013487\n",
      "\n",
      "----------------------------------------------------------------------------------------------------\n",
      "\n",
      "# ModelLog: Quantum device  = default.qubit\n",
      "# ModelLog: Quantum backend = pennylane\n",
      "# ModelLog: Qubits (IR, WK, NR) = (3, 0, 2)\n",
      "# ModelLog: Quantum device  = default.qubit\n",
      "# ModelLog: Quantum backend = qiskit\n",
      "# ModelLog: Qubits (IR, WK, NR) = (3, 2, 2)\n",
      "Pennylane:\n",
      " - tensor([-11.1421, -11.1421], grad_fn=<ReshapeAliasBackward0>)\n",
      "Qiskit:\n",
      " - tensor([-11.1421, -11.1421], grad_fn=<ReshapeAliasBackward0>)\n",
      "Difference norm = 0.0000013487\n",
      "\n",
      "----------------------------------------------------------------------------------------------------\n",
      "\n",
      "# ModelLog: Quantum device  = default.qubit\n",
      "# ModelLog: Quantum backend = pennylane\n",
      "# ModelLog: Qubits (IR, WK, NR) = (3, 0, 2)\n",
      "# ModelLog: Quantum device  = default.qubit\n",
      "# ModelLog: Quantum backend = qiskit\n",
      "# ModelLog: Qubits (IR, WK, NR) = (3, 2, 2)\n",
      "Pennylane:\n",
      " - tensor([17.7207, 17.7207], grad_fn=<ReshapeAliasBackward0>)\n",
      "Qiskit:\n",
      " - tensor([17.7206, 17.7206], grad_fn=<ReshapeAliasBackward0>)\n",
      "Difference norm = 0.0000026974\n",
      "\n",
      "----------------------------------------------------------------------------------------------------\n",
      "\n"
     ]
    }
   ],
   "source": [
    "num_ir_qubits = 3 # Number of qubits in IR.\n",
    "num_nr_qubits = 2 # Number of qubits in NR.\n",
    "\n",
    "def circuit(backend):\n",
    "    encoding_func = gen_encoding_func(\n",
    "        num_ir_qubits=num_ir_qubits, \n",
    "        num_nr_qubits=num_nr_qubits,\n",
    "        backend=backend\n",
    "    )\n",
    "    return module_model.QCGNN(\n",
    "        num_ir_qubits=num_ir_qubits,\n",
    "        num_nr_qubits=num_nr_qubits,\n",
    "        num_layers=1,\n",
    "        num_reupload=1,\n",
    "        ctrl_enc=encoding_func,\n",
    "        qdevice=\"default.qubit\",\n",
    "        qbackend=backend\n",
    "    )\n",
    "\n",
    "for rnd_seed in range(10):\n",
    "    L.seed_everything(rnd_seed) # For reproducing weights initialization.\n",
    "    pennylane_circuit = circuit(\"pennylane\")\n",
    "\n",
    "    L.seed_everything(rnd_seed) # For reproducing weights initialization.\n",
    "    qiskit_circuit = circuit(\"qiskit\")\n",
    "\n",
    "    num_ptcs = np.random.randint(2**num_ir_qubits) + 1\n",
    "    x = torch.rand(num_ptcs, 3)\n",
    "\n",
    "    y_pennylane = pennylane_circuit(x).reshape(-1)\n",
    "    y_qiskit = qiskit_circuit(x).reshape(-1)\n",
    "    print(f\"Pennylane:\\n - {y_pennylane}\")\n",
    "    print(f\"Qiskit:\\n - {y_qiskit}\")\n",
    "    print(f\"Difference norm = {torch.norm(y_pennylane-y_qiskit, p=2):.10f}\")\n",
    "    print(f\"\\n{'-'*100}\\n\")"
   ]
  }
 ],
 "metadata": {
  "kernelspec": {
   "display_name": "Python 3",
   "language": "python",
   "name": "python3"
  },
  "language_info": {
   "codemirror_mode": {
    "name": "ipython",
    "version": 3
   },
   "file_extension": ".py",
   "mimetype": "text/x-python",
   "name": "python",
   "nbconvert_exporter": "python",
   "pygments_lexer": "ipython3",
   "version": "3.9.12"
  }
 },
 "nbformat": 4,
 "nbformat_minor": 2
}

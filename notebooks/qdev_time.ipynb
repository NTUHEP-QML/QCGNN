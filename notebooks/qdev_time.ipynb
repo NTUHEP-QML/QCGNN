{
 "cells": [
  {
   "cell_type": "markdown",
   "metadata": {},
   "source": [
    "### About this demo\n",
    "\n",
    "This demo test the time cost between different PennyLane quantum devices.\n",
    "\n",
    "**Additional packages required:**\n",
    "- pip install \"pennylane-qulacs[cpu]\"\n",
    "- pip install pennylane-lightning"
   ]
  },
  {
   "cell_type": "code",
   "execution_count": null,
   "metadata": {},
   "outputs": [],
   "source": [
    "import os\n",
    "import sys\n",
    "import time\n",
    "\n",
    "import pennylane as qml\n",
    "import torch\n",
    "import torch.nn as nn\n",
    "\n",
    "sys.path.append(os.path.abspath('../'))\n",
    "\n",
    "from source.models.qcgnn import HybridQCGNN\n",
    "\n",
    "os.environ['OMP_NUM_THREADS'] = '8'\n",
    "\n",
    "qml.about()"
   ]
  },
  {
   "cell_type": "code",
   "execution_count": null,
   "metadata": {},
   "outputs": [],
   "source": [
    "q_setup = [\n",
    "    ('default.qubit', 'best'),\n",
    "    ('lightning.qubit', 'adjoint'),\n",
    "    ('qulacs.simulator', 'best'),\n",
    "]\n",
    "\n",
    "batch_size = 128\n",
    "num_ptcs = 16\n",
    "score_dim = 3\n",
    "\n",
    "x = torch.rand(batch_size, num_ptcs, 3)\n",
    "y = torch.randint(low=0, high=score_dim, size=(batch_size, ))\n",
    "\n",
    "for dev, diff_method in q_setup:\n",
    "\n",
    "    time_start = time.time()\n",
    "    \n",
    "    model = HybridQCGNN(\n",
    "        num_ir_qubits=4,\n",
    "        num_nr_qubits=3,\n",
    "        num_layers=1,\n",
    "        num_reupload=2,\n",
    "        num_rotation=1,\n",
    "        vqc_ansatz=qml.BasicEntanglerLayers,\n",
    "        score_dim=score_dim,\n",
    "        qdevice=dev,\n",
    "        # qbackend='qiskit',\n",
    "        diff_method=diff_method,\n",
    "    )\n",
    "    \n",
    "    optimizer = torch.optim.RAdam(model.parameters(), lr=1E-2)\n",
    "    loss_func = nn.CrossEntropyLoss()\n",
    "\n",
    "    for epoch in range(5):\n",
    "        optimizer.zero_grad()\n",
    "        loss = loss_func(model(x), y)\n",
    "        loss.backward()\n",
    "        optimizer.step()\n",
    "\n",
    "        print(f\"- Epoch: {epoch} | Loss: {loss.item():.4f}\")\n",
    "    \n",
    "    time_end = time.time()\n",
    "\n",
    "    print(f\"* Device: {dev} | Time: {time_end - time_start:.2f} s\\n\")"
   ]
  }
 ],
 "metadata": {
  "kernelspec": {
   "display_name": "Python 3",
   "language": "python",
   "name": "python3"
  },
  "language_info": {
   "codemirror_mode": {
    "name": "ipython",
    "version": 3
   },
   "file_extension": ".py",
   "mimetype": "text/x-python",
   "name": "python",
   "nbconvert_exporter": "python",
   "pygments_lexer": "ipython3",
   "version": "3.12.2"
  }
 },
 "nbformat": 4,
 "nbformat_minor": 2
}

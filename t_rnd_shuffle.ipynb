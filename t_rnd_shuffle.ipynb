{
 "cells": [
  {
   "cell_type": "code",
   "execution_count": 1,
   "metadata": {},
   "outputs": [
    {
     "name": "stdout",
     "output_type": "stream",
     "text": [
      "#--------------------------------------------------------------------------\n",
      "#                         FastJet release 3.4.0\n",
      "#                 M. Cacciari, G.P. Salam and G. Soyez                  \n",
      "#     A software package for jet finding and analysis at colliders      \n",
      "#                           http://fastjet.fr                           \n",
      "#\t                                                                      \n",
      "# Please cite EPJC72(2012)1896 [arXiv:1111.6097] if you use this package\n",
      "# for scientific work and optionally PLB641(2006)57 [hep-ph/0512210].   \n",
      "#                                                                       \n",
      "# FastJet is provided without warranty under the GNU GPL v2 or higher.  \n",
      "# It uses T. Chan's closest pair algorithm, S. Fortune's Voronoi code,\n",
      "# CGAL and 3rd party plugin jet algorithms. See COPYING file for details.\n",
      "#--------------------------------------------------------------------------\n"
     ]
    }
   ],
   "source": [
    "import m_nn, d_mg5_data\n",
    "import torch\n",
    "import pennylane as qml\n",
    "from pennylane import numpy as np"
   ]
  },
  {
   "cell_type": "code",
   "execution_count": 2,
   "metadata": {},
   "outputs": [
    {
     "name": "stdout",
     "output_type": "stream",
     "text": [
      "DataLog: Now loading hdf5 file VzToZhToVevebb|c800_1000_r0.1.hdf5\n",
      "DataLog: Successfully loading hdf5 file VzToZhToVevebb|c800_1000_r0.1.hdf5\n",
      "DataLog: Generate uniform Pt events (1/10) | number of bin events = 10/11075\n",
      "DataLog: Generate uniform Pt events (2/10) | number of bin events = 10/11328\n",
      "DataLog: Generate uniform Pt events (3/10) | number of bin events = 10/11761\n",
      "DataLog: Generate uniform Pt events (4/10) | number of bin events = 10/11922\n",
      "DataLog: Generate uniform Pt events (5/10) | number of bin events = 10/11775\n",
      "DataLog: Generate uniform Pt events (6/10) | number of bin events = 10/11568\n",
      "DataLog: Generate uniform Pt events (7/10) | number of bin events = 10/11036\n",
      "DataLog: Generate uniform Pt events (8/10) | number of bin events = 10/10258\n",
      "DataLog: Generate uniform Pt events (9/10) | number of bin events = 10/8917\n",
      "DataLog: Generate uniform Pt events (10/10) | number of bin events = 10/7399\n"
     ]
    }
   ],
   "source": [
    "gnn_idx_qubits = 2\n",
    "dataset = d_mg5_data.FatJetEvents(channel=\"VzToZhToVevebb\", cut_pt=(800, 1000), subjet_radius=0.1, num_pt_ptcs=2**gnn_idx_qubits)\n",
    "events  = dataset.generate_uniform_pt_events(bin=10, num_bin_data=10)"
   ]
  },
  {
   "cell_type": "code",
   "execution_count": 3,
   "metadata": {},
   "outputs": [
    {
     "name": "stdout",
     "output_type": "stream",
     "text": [
      "tensor([-2.7588,  0.6569], dtype=torch.float64, grad_fn=<SumBackward1>)\n",
      "tensor([-2.7588,  0.6569], dtype=torch.float64, grad_fn=<SumBackward1>)\n",
      "tensor([-2.7588,  0.6569], dtype=torch.float64, grad_fn=<SumBackward1>)\n",
      "tensor([-2.7588,  0.6569], dtype=torch.float64, grad_fn=<SumBackward1>)\n",
      "tensor([-2.7588,  0.6569], dtype=torch.float64, grad_fn=<SumBackward1>)\n",
      "tensor([-2.7588,  0.6569], dtype=torch.float64, grad_fn=<SumBackward1>)\n",
      "tensor([-2.7588,  0.6569], dtype=torch.float64, grad_fn=<SumBackward1>)\n",
      "tensor([-2.7588,  0.6569], dtype=torch.float64, grad_fn=<SumBackward1>)\n",
      "tensor([-2.7588,  0.6569], dtype=torch.float64, grad_fn=<SumBackward1>)\n",
      "tensor([-2.7588,  0.6569], dtype=torch.float64, grad_fn=<SumBackward1>)\n"
     ]
    }
   ],
   "source": [
    "# def ctrl_enc_operator(_input, control, control_values):\n",
    "#     ctrl = qml.ctrl(qml.AngleEmbedding, control=control, control_values=control_values)\n",
    "#     ctrl(features=_input, wires=range(gnn_idx_qubits, gnn_idx_qubits+3), rotation=\"Y\")\n",
    "# model = m_nn.QuantumDisorderedFCGraph(num_idx_qubits=gnn_idx_qubits, num_nn_qubits=3, num_layers=1, num_reupload=0, ctrl_enc_operator=ctrl_enc_operator, rnd_shuffle_inputs=True)\n",
    "\n",
    "def ctrl_enc_operator(_input, control, control_values):\n",
    "    ctrl_H = qml.ctrl(qml.Hadamard, control=control, control_values=control_values)\n",
    "    ctrl_H(wires=gnn_idx_qubits)\n",
    "    ctrl_R = qml.ctrl(qml.Rot, control=control, control_values=control_values)\n",
    "    ctrl_R(theta=_input[0], phi=_input[1], omega=_input[2], wires=gnn_idx_qubits)\n",
    "model = m_nn.QuantumDisorderedFCGraph(num_idx_qubits=gnn_idx_qubits, num_nn_qubits=2, num_layers=1, num_reupload=0, ctrl_enc_operator=ctrl_enc_operator)\n",
    "\n",
    "fatjet_radius = 0.8\n",
    "f1 = np.arctan(events[\"fast_pt\"] / events[\"fatjet_pt\"])\n",
    "f2 = events[\"fast_delta_eta\"] / fatjet_radius * (np.pi/2)\n",
    "f3 = events[\"fast_delta_phi\"] / fatjet_radius * (np.pi/2)\n",
    "\n",
    "idx  = torch.randint(0, len(events), (1,)).item()\n",
    "data = torch.tensor([f1[idx], f2[idx], f3[idx]]).mT\n",
    "for _ in range(10):\n",
    "    data = data[torch.randperm(2**gnn_idx_qubits)]\n",
    "    print(model(data.reshape(-1)))\n"
   ]
  }
 ],
 "metadata": {
  "kernelspec": {
   "display_name": "Python 3",
   "language": "python",
   "name": "python3"
  },
  "language_info": {
   "codemirror_mode": {
    "name": "ipython",
    "version": 3
   },
   "file_extension": ".py",
   "mimetype": "text/x-python",
   "name": "python",
   "nbconvert_exporter": "python",
   "pygments_lexer": "ipython3",
   "version": "3.9.12"
  },
  "orig_nbformat": 4
 },
 "nbformat": 4,
 "nbformat_minor": 2
}

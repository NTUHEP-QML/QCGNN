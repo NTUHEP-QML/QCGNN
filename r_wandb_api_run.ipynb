{
 "cells": [
  {
   "cell_type": "markdown",
   "metadata": {},
   "source": [
    "### Delete Wandb runs"
   ]
  },
  {
   "cell_type": "code",
   "execution_count": 2,
   "metadata": {},
   "outputs": [
    {
     "name": "stdout",
     "output_type": "stream",
     "text": [
      "QuantumSuperFCGNN_normalize_pi_qidx3_maxgr0 | cut(800, 1000)_ptc8_bin10-500_R0 | 20230927_153706_0\n"
     ]
    }
   ],
   "source": [
    "import wandb\n",
    "\n",
    "api     = wandb.Api()\n",
    "date    = \"20230927_153706\"\n",
    "suffix  = \"\"\n",
    "project = \"g_eflow_QFCGNN\"\n",
    "\n",
    "for run in api.runs(f\"ntuyianchen/{project}\"):\n",
    "    if date in run.id and suffix in run.id:\n",
    "        print(run.id)\n",
    "        run.delete()\n",
    "    # elif run.id is None:\n",
    "    #     print(run.id)"
   ]
  },
  {
   "cell_type": "markdown",
   "metadata": {},
   "source": [
    "### Modify None (null) values"
   ]
  },
  {
   "cell_type": "code",
   "execution_count": 2,
   "metadata": {},
   "outputs": [],
   "source": [
    "import wandb\n",
    "\n",
    "api     = wandb.Api()\n",
    "date    = \"\"\n",
    "suffix  = \"\"\n",
    "project = \"g_eflow_QFCGNN\"\n",
    "\n",
    "for run in api.runs(f\"ntuyianchen/{project}\"):\n",
    "    if run.state == \"finished\":\n",
    "        if \"subjet_radius\" in run.config.keys() and run.config[\"subjet_radius\"] == None:\n",
    "            print(run.id)\n",
    "            run.config[\"subjet_radius\"] = 0\n",
    "            run.update()\n",
    "        if \"num_pt_ptcs\" in run.config.keys() and run.config[\"num_pt_ptcs\"] == None:\n",
    "            print(run.id)\n",
    "            run.config[\"num_pt_ptcs\"] = \"Full\"\n",
    "            run.update()"
   ]
  }
 ],
 "metadata": {
  "kernelspec": {
   "display_name": "Python 3",
   "language": "python",
   "name": "python3"
  },
  "language_info": {
   "codemirror_mode": {
    "name": "ipython",
    "version": 3
   },
   "file_extension": ".py",
   "mimetype": "text/x-python",
   "name": "python",
   "nbconvert_exporter": "python",
   "pygments_lexer": "ipython3",
   "version": "3.9.12"
  },
  "orig_nbformat": 4
 },
 "nbformat": 4,
 "nbformat_minor": 2
}

{
 "cells": [
  {
   "cell_type": "markdown",
   "metadata": {},
   "source": [
    "### About this demo\n",
    "\n",
    "This demo generates padded events to `npz` format, note the events are read from `hdf5` file. However, one can also regenerate the data by choosing `use_hdf5=False` in `module_data.FatJetEvents`."
   ]
  },
  {
   "cell_type": "code",
   "execution_count": null,
   "metadata": {},
   "outputs": [],
   "source": [
    "import os\n",
    "\n",
    "import awkward as ak\n",
    "import lightning as L\n",
    "import numpy as np\n",
    "import torch\n",
    "\n",
    "import module_data"
   ]
  },
  {
   "cell_type": "code",
   "execution_count": null,
   "metadata": {},
   "outputs": [],
   "source": [
    "def generate_jet_events(channel: str):\n",
    "    \"\"\"Generate Jet events in FatJetEvents type.\"\"\"\n",
    "    jet_events = module_data.FatJetEvents(\n",
    "        channel=channel,\n",
    "        cut_pt=(800,1000),\n",
    "        subjet_radius=0,\n",
    "        num_pt_ptcs=8,\n",
    "        use_hdf5=True\n",
    "    )\n",
    "\n",
    "    return jet_events\n",
    "\n",
    "def generate_uniform_pt_events(jet_events: module_data.FatJetEvents, rnd_seed: int):\n",
    "    # Randomly generate uniform pt events.\n",
    "    L.seed_everything(rnd_seed)\n",
    "    events = jet_events.generate_uniform_pt_events(bin=10, num_bin_data=500)\n",
    "    \n",
    "    # Print out information about the channel.\n",
    "    channel = jet_events.channel\n",
    "    max_num_ptcs = ak.max(ak.num(events[\"fast_pt\"], axis=1))\n",
    "    print(f\"Channel {channel}: Maximum number of particles = {max_num_ptcs}\")\n",
    "\n",
    "    # Preprocess the jet events (see `module_data.py` for detail).\n",
    "    preprocess_func = lambda _events: \\\n",
    "        module_data.JetDataModule._preprocess(self=None, events=_events)\n",
    "    events = preprocess_func(events)\n",
    "\n",
    "    # Pad all events with same number of particles with zero.\n",
    "    for i in range(len(events)):\n",
    "        num_padding = max_num_ptcs - len(events[i])\n",
    "        zero_padding = torch.zeros((num_padding, 3))\n",
    "        events[i] = torch.cat((events[i], zero_padding), dim=0)\n",
    "        events[i] = events[i].numpy()\n",
    "\n",
    "    return np.array(events)"
   ]
  },
  {
   "cell_type": "code",
   "execution_count": null,
   "metadata": {},
   "outputs": [],
   "source": [
    "channel_list = [\"VzToQCD\", \"VzToZhToVevebb\", \"VzToTt\"]\n",
    "\n",
    "# Generate in different random seeds.\n",
    "for rnd_seed in range(3):\n",
    "    npz_dict = {}\n",
    "\n",
    "    # Generate for different channels.\n",
    "    for channel in channel_list:\n",
    "        jet_events = generate_jet_events(channel=channel)\n",
    "        npz_dict[channel] = generate_uniform_pt_events(\n",
    "            jet_events=jet_events,\n",
    "            rnd_seed=rnd_seed,\n",
    "        )\n",
    "    \n",
    "    # Each npy file generates with a specific random seed.\n",
    "    npz_dir = f\"./jet_dataset/padded_npz\"\n",
    "    npz_name = f\"fatjet_{rnd_seed}.npz\"\n",
    "    os.makedirs(npz_dir, exist_ok=True)\n",
    "\n",
    "    # Save to `npz` format.\n",
    "    np.savez(os.path.join(npz_dir, npz_name), **npz_dict)"
   ]
  }
 ],
 "metadata": {
  "kernelspec": {
   "display_name": "Python 3",
   "language": "python",
   "name": "python3"
  },
  "language_info": {
   "codemirror_mode": {
    "name": "ipython",
    "version": 3
   },
   "file_extension": ".py",
   "mimetype": "text/x-python",
   "name": "python",
   "nbconvert_exporter": "python",
   "pygments_lexer": "ipython3",
   "version": "3.9.12"
  }
 },
 "nbformat": 4,
 "nbformat_minor": 2
}

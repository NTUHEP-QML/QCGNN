{
 "cells": [
  {
   "cell_type": "code",
   "execution_count": null,
   "metadata": {},
   "outputs": [],
   "source": [
    "import numpy as np\n",
    "from itertools import product"
   ]
  },
  {
   "cell_type": "code",
   "execution_count": null,
   "metadata": {},
   "outputs": [],
   "source": [
    "backends = [\"ibm_cairo\", \"ibmq_kolkata\"]\n",
    "\n",
    "for abbrev, backend in product([\"BB-QCD\", \"TT-QCD\"], backends):\n",
    "    result = np.load(f\"ibmq/{backend}_r0-p_2_n25_b300-3_1_3.npy\", allow_pickle=True)\n",
    "    result = result.item()[abbrev]\n",
    "    print(f\"{abbrev} in backend {backend}:\")\n",
    "    print(f\"IBMQ Frobinius norm = {np.linalg.norm(result['meas_penl']-result['meas_ibmq'])}\")\n",
    "    print(f\"QASM Frobinius norm = {np.linalg.norm(result['meas_penl']-result['qasm_ibmq'])}\")\n",
    "    print(\"-\"*100)"
   ]
  }
 ],
 "metadata": {
  "kernelspec": {
   "display_name": "Python 3",
   "language": "python",
   "name": "python3"
  },
  "language_info": {
   "codemirror_mode": {
    "name": "ipython",
    "version": 3
   },
   "file_extension": ".py",
   "mimetype": "text/x-python",
   "name": "python",
   "nbconvert_exporter": "python",
   "pygments_lexer": "ipython3",
   "version": "3.9.12"
  }
 },
 "nbformat": 4,
 "nbformat_minor": 2
}

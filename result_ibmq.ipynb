{
 "cells": [
  {
   "cell_type": "code",
   "execution_count": 2,
   "metadata": {},
   "outputs": [],
   "source": [
    "import numpy as np\n",
    "from qiskit_ibm_provider import IBMProvider\n",
    "from itertools import product"
   ]
  },
  {
   "cell_type": "code",
   "execution_count": 10,
   "metadata": {},
   "outputs": [],
   "source": [
    "# IBMProvider.save_account(token=<INSERT_IBM_QUANTUM_TOKEN>)\n",
    "# provider = IBMProvider()\n",
    "# job_id   = \"cp4dpjambjng008jmwvg\"\n",
    "# result   = provider.retrieve_job(job_id)"
   ]
  },
  {
   "cell_type": "code",
   "execution_count": 5,
   "metadata": {},
   "outputs": [],
   "source": [
    "backends = [\"ibm_cairo\", \"ibmq_kolkata\"]\n",
    "\n",
    "for abbrev, backend in product([\"BB-QCD\", \"TT-QCD\"], backends):\n",
    "    result = np.load(f\"ibmq/{backend}_r0-p_2_n25_b300-3_1_3.npy\", allow_pickle=True)\n",
    "    result = result.item()[abbrev]\n",
    "    print(f\"{abbrev} in backend {backend}:\")\n",
    "    print(f\"IBMQ Frobinius norm = {np.linalg.norm(result['meas_penl']-result['meas_ibmq'])}\")\n",
    "    print(f\"QASM Frobinius norm = {np.linalg.norm(result['meas_penl']-result['meas_qasm'])}\")\n",
    "    print(\"-\"*100)"
   ]
  }
 ],
 "metadata": {
  "kernelspec": {
   "display_name": "Python 3",
   "language": "python",
   "name": "python3"
  },
  "language_info": {
   "codemirror_mode": {
    "name": "ipython",
    "version": 3
   },
   "file_extension": ".py",
   "mimetype": "text/x-python",
   "name": "python",
   "nbconvert_exporter": "python",
   "pygments_lexer": "ipython3",
   "version": "3.9.12"
  }
 },
 "nbformat": 4,
 "nbformat_minor": 2
}

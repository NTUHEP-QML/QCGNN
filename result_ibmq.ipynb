{
 "cells": [
  {
   "cell_type": "code",
   "execution_count": 4,
   "metadata": {},
   "outputs": [],
   "source": [
    "import numpy as np\n",
    "from qiskit_ibm_provider import IBMProvider\n",
    "from itertools import product"
   ]
  },
  {
   "cell_type": "code",
   "execution_count": 5,
   "metadata": {},
   "outputs": [],
   "source": [
    "# IBMProvider.save_account(token=<INSERT_IBM_QUANTUM_TOKEN>)\n",
    "# provider = IBMProvider()\n",
    "# job_id   = \"cp4dpjambjng008jmwvg\"\n",
    "# result   = provider.retrieve_job(job_id)"
   ]
  },
  {
   "cell_type": "code",
   "execution_count": 8,
   "metadata": {},
   "outputs": [
    {
     "name": "stdout",
     "output_type": "stream",
     "text": [
      "BB-QCD in backend ibm_cusco:\n",
      "IBMQ Frobinius norm = 5.611314296722412\n",
      "----------------------------------------------------------------------------------------------------\n",
      "TT-QCD in backend ibm_cusco:\n",
      "IBMQ Frobinius norm = 5.236304759979248\n",
      "----------------------------------------------------------------------------------------------------\n"
     ]
    }
   ],
   "source": [
    "shots = 1024\n",
    "backends = [\"ibm_cusco\"]\n",
    "\n",
    "for abbrev, backend in product([\"BB-QCD\", \"TT-QCD\"], backends):\n",
    "    result = np.load(f\"ibmq/{backend}-s{1024}-{abbrev}_r0-p_4_n25_b10-9_1_9.npy\", allow_pickle=True)\n",
    "    result = result.item()\n",
    "    print(f\"{abbrev} in backend {backend}:\")\n",
    "    print(f\"IBMQ Frobinius norm = {np.linalg.norm(result['meas_penl']-result['meas_ibmq'])}\")\n",
    "    print(\"-\"*100)"
   ]
  }
 ],
 "metadata": {
  "kernelspec": {
   "display_name": "Python 3",
   "language": "python",
   "name": "python3"
  },
  "language_info": {
   "codemirror_mode": {
    "name": "ipython",
    "version": 3
   },
   "file_extension": ".py",
   "mimetype": "text/x-python",
   "name": "python",
   "nbconvert_exporter": "python",
   "pygments_lexer": "ipython3",
   "version": "3.9.12"
  }
 },
 "nbformat": 4,
 "nbformat_minor": 2
}

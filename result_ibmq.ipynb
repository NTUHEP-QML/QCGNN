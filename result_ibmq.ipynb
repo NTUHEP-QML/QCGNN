{
 "cells": [
  {
   "cell_type": "markdown",
   "metadata": {},
   "source": [
    "### About this result\n",
    "\n",
    "Analyzing the results runnning on IBM quantum platform, the result data is stored in `./pred_outputs/ibmq` with `npy` format."
   ]
  },
  {
   "cell_type": "code",
   "execution_count": 1,
   "metadata": {},
   "outputs": [],
   "source": [
    "import os\n",
    "from itertools import product\n",
    "\n",
    "import numpy as np\n",
    "\n",
    "import g_main\n",
    "\n",
    "general_config = g_main.json_config\n",
    "ibmq_dir = os.path.join(general_config[\"predictions_dir\"], \"ibmq\")"
   ]
  },
  {
   "cell_type": "code",
   "execution_count": 2,
   "metadata": {},
   "outputs": [
    {
     "name": "stdout",
     "output_type": "stream",
     "text": [
      "* Channel: BB-QCD | Backend: ibm_cusco | Size: 100\n",
      "\n",
      "      | SIM  ACC | IBMQ ACC | S/I  ACC | S/I DIFF\n",
      "--------------------------------------------------\n",
      "Q = 3 |   0.48   |   0.50   |   0.96   |   0.35   \n",
      "--------------------------------------------------\n",
      "Q = 6 |   0.40   |   0.50   |   0.24   |   0.55   \n",
      "--------------------------------------------------\n",
      "Q = 9 |   0.52   |   0.50   |   0.98   |   0.10   \n",
      "\n",
      "##################################################\n",
      "\n",
      "* Channel: TT-QCD | Backend: ibm_cusco | Size: 100\n",
      "\n",
      "      | SIM  ACC | IBMQ ACC | S/I  ACC | S/I DIFF\n",
      "--------------------------------------------------\n",
      "Q = 3 |   0.59   |   0.50   |   0.85   |   0.46   \n",
      "--------------------------------------------------\n",
      "Q = 6 |   0.63   |   0.50   |   0.63   |   0.30   \n",
      "--------------------------------------------------\n",
      "Q = 9 |   0.52   |   0.48   |   0.60   |   0.25   \n",
      "\n",
      "##################################################\n",
      "\n"
     ]
    }
   ],
   "source": [
    "shots = 1024\n",
    "batch_size = 10\n",
    "num_pt_ptcs = 4\n",
    "num_bin_data = 25\n",
    "backend_list = [\"ibm_cusco\"]\n",
    "channel_list = [\"BB-QCD\", \"TT-QCD\"]\n",
    "\n",
    "def get_ibmq_output(npy_path):\n",
    "    result = np.load(npy_path, allow_pickle=True)\n",
    "    result = result.item()\n",
    "    return result\n",
    "\n",
    "rnd_seed= 2\n",
    "for abbrev, backend in product(channel_list, backend_list):\n",
    "    print(f\"* Channel: {abbrev} | Backend: {backend} | Size: {100}\\n\")\n",
    "    print(f\"      | SIM  ACC | IBMQ ACC | S/I  ACC | S/I DIFF\")\n",
    "    for Q in [3, 6, 9]:\n",
    "        # Horizontal splitting line.\n",
    "        print(f\"--------------------------------------------------\")\n",
    "        \n",
    "        # Read npy file.\n",
    "        npy_file = (\n",
    "            f\"{backend}-s{shots}-{abbrev}_\"\n",
    "            + f\"r{rnd_seed}-p{num_pt_ptcs}_\"\n",
    "            + f\"n{num_bin_data}_\"\n",
    "            + f\"b{batch_size}-{Q}_1_{Q}\"\n",
    "            + \".npy\"\n",
    "        )\n",
    "        result = np.load(os.path.join(ibmq_dir, npy_file), allow_pickle=True)\n",
    "        result = result.item()\n",
    "\n",
    "        # Prepare true labels and predictions.\n",
    "        y_true = result[\"y_true\"].reshape(-1).numpy()\n",
    "        y_penl = result[\"y_penl\"].reshape(-1).numpy()\n",
    "        y_ibmq = result[\"y_ibmq\"].reshape(-1).numpy()\n",
    "\n",
    "        # Calculate accuracy and loss (difference).\n",
    "        SIM__ACC = (y_true == (y_penl > 0)).mean()\n",
    "        IBMQ_ACC = (y_true == (y_ibmq > 0)).mean()\n",
    "        S_I__ACC = ((y_penl > 0) == (y_ibmq > 0)).mean()\n",
    "        S_I_DIFF = np.mean(np.abs(y_penl - y_ibmq))\n",
    "        print(f\"Q = {Q} |   {SIM__ACC:.2f}   |   {IBMQ_ACC:.2f}   |   {S_I__ACC:.2f}   |   {S_I_DIFF:.2f}   \")\n",
    "    print(\"\\n\" + \"#\"*50 + \"\\n\")"
   ]
  }
 ],
 "metadata": {
  "kernelspec": {
   "display_name": "Python 3",
   "language": "python",
   "name": "python3"
  },
  "language_info": {
   "codemirror_mode": {
    "name": "ipython",
    "version": 3
   },
   "file_extension": ".py",
   "mimetype": "text/x-python",
   "name": "python",
   "nbconvert_exporter": "python",
   "pygments_lexer": "ipython3",
   "version": "3.9.12"
  }
 },
 "nbformat": 4,
 "nbformat_minor": 2
}

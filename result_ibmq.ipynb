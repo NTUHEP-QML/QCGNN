{
 "cells": [
  {
   "cell_type": "code",
   "execution_count": null,
   "metadata": {},
   "outputs": [],
   "source": [
    "import os\n",
    "from itertools import product\n",
    "\n",
    "import numpy as np\n",
    "from qiskit_ibm_provider import IBMProvider\n",
    "\n",
    "import g_main\n",
    "\n",
    "general_config = g_main.json_config\n",
    "ibmq_dir = os.path.join(general_config[\"predictions_dir\"], \"ibmq\")"
   ]
  },
  {
   "cell_type": "code",
   "execution_count": null,
   "metadata": {},
   "outputs": [],
   "source": [
    "# IBMProvider.save_account(token=<INSERT_IBM_QUANTUM_TOKEN>)\n",
    "# provider = IBMProvider()\n",
    "# job_id   = \"cp4dpjambjng008jmwvg\"\n",
    "# result   = provider.retrieve_job(job_id)"
   ]
  },
  {
   "cell_type": "code",
   "execution_count": null,
   "metadata": {},
   "outputs": [],
   "source": [
    "shots = 1024\n",
    "batch_size = 10\n",
    "num_pt_ptcs = 4\n",
    "num_bin_data = 25\n",
    "backends = [\"ibm_cusco\"]\n",
    "\n",
    "rnd_seed= 2\n",
    "for abbrev, backend in product([\"BB-QCD\", \"TT-QCD\"], backends):\n",
    "    for q in [3, 6]:\n",
    "        npy_file = (\n",
    "            f\"{backend}-s{shots}-{abbrev}_\"\n",
    "            + f\"r{rnd_seed}-p{num_pt_ptcs}_\"\n",
    "            + f\"n{num_bin_data}_\"\n",
    "            + f\"b{batch_size}-{q}_1_{q}\"\n",
    "            + \".npy\"\n",
    "        )\n",
    "        result = np.load(os.path.join(ibmq_dir, npy_file), allow_pickle=True)\n",
    "        result = result.item()\n",
    "        print(abbrev, q)\n",
    "        print(result[\"x\"].shape)\n",
    "        print(result[\"y_true\"].shape)\n",
    "        print(result[\"y_penl\"].shape)\n",
    "        print()\n",
    "        # print(f\"{abbrev} in backend {backend}:\")\n",
    "        # print(f\"IBMQ Frobinius norm = {np.linalg.norm(result['meas_penl']-result['meas_ibmq'])}\")\n",
    "        # print(\"-\"*100)"
   ]
  }
 ],
 "metadata": {
  "kernelspec": {
   "display_name": "Python 3",
   "language": "python",
   "name": "python3"
  },
  "language_info": {
   "codemirror_mode": {
    "name": "ipython",
    "version": 3
   },
   "file_extension": ".py",
   "mimetype": "text/x-python",
   "name": "python",
   "nbconvert_exporter": "python",
   "pygments_lexer": "ipython3",
   "version": "3.9.12"
  }
 },
 "nbformat": 4,
 "nbformat_minor": 2
}
